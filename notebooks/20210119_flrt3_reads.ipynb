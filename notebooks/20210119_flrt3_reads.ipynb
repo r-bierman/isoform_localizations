{
 "cells": [
  {
   "cell_type": "code",
   "execution_count": 6,
   "metadata": {
    "collapsed": true
   },
   "outputs": [],
   "source": [
    "import pysam\n",
    "import glob\n",
    "import pandas as pd\n",
    "import numpy as np\n",
    "import os"
   ]
  },
  {
   "cell_type": "code",
   "execution_count": 3,
   "metadata": {
    "collapsed": true
   },
   "outputs": [],
   "source": [
    "glm_paths = glob.glob('/scratch/PI/horence/rob/single_cell_project/output/20210119_ss2_cells_paired/*/GLM*')\n",
    "bam_paths = glob.glob('/scratch/PI/horence/rob/single_cell_project/output/20210119_ss2_cells_paired/*/*.bam')\n"
   ]
  },
  {
   "cell_type": "code",
   "execution_count": 13,
   "metadata": {},
   "outputs": [
    {
     "data": {
      "text/html": [
       "<div>\n",
       "<style scoped>\n",
       "    .dataframe tbody tr th:only-of-type {\n",
       "        vertical-align: middle;\n",
       "    }\n",
       "\n",
       "    .dataframe tbody tr th {\n",
       "        vertical-align: top;\n",
       "    }\n",
       "\n",
       "    .dataframe thead th {\n",
       "        text-align: right;\n",
       "    }\n",
       "</style>\n",
       "<table border=\"1\" class=\"dataframe\">\n",
       "  <thead>\n",
       "    <tr style=\"text-align: right;\">\n",
       "      <th></th>\n",
       "      <th>refName_newR1</th>\n",
       "      <th>geneR1B_ensembl</th>\n",
       "      <th>geneR1A_ensembl</th>\n",
       "      <th>geneR1B_uniq</th>\n",
       "      <th>geneR1A_uniq</th>\n",
       "      <th>fileTypeR1</th>\n",
       "      <th>juncPosR1A</th>\n",
       "      <th>juncPosR1B</th>\n",
       "      <th>chrR1A</th>\n",
       "      <th>chrR1B</th>\n",
       "      <th>...</th>\n",
       "      <th>min_entropyR2</th>\n",
       "      <th>p_val_median_overlap_R1</th>\n",
       "      <th>emp.p_glmnet_constrained</th>\n",
       "      <th>emp.p_glmnet_corrected_constrained</th>\n",
       "      <th>seqR1</th>\n",
       "      <th>flagR1A</th>\n",
       "      <th>flagR1B</th>\n",
       "      <th>readoverhang1_length</th>\n",
       "      <th>readoverhang2_length</th>\n",
       "      <th>sample</th>\n",
       "    </tr>\n",
       "  </thead>\n",
       "  <tbody>\n",
       "    <tr>\n",
       "      <th>0</th>\n",
       "      <td>NC_005089.1:COX1:5705:+|chr18:Zeb1:5701165:+|fus</td>\n",
       "      <td>NaN</td>\n",
       "      <td>NaN</td>\n",
       "      <td>Zeb1</td>\n",
       "      <td>COX1</td>\n",
       "      <td>Chimeric</td>\n",
       "      <td>5705</td>\n",
       "      <td>5701165</td>\n",
       "      <td>NC_005089.1</td>\n",
       "      <td>chr18</td>\n",
       "      <td>...</td>\n",
       "      <td>1.772</td>\n",
       "      <td>0.3192</td>\n",
       "      <td>0.0</td>\n",
       "      <td>0.0</td>\n",
       "      <td>ATAGTAGAAGCAGGAGCAGGAACAGGATGATGCTAGGAGTCTACCC...</td>\n",
       "      <td>0</td>\n",
       "      <td>2048.0</td>\n",
       "      <td>30</td>\n",
       "      <td>21</td>\n",
       "      <td>LS-15395_S47_E1-50</td>\n",
       "    </tr>\n",
       "    <tr>\n",
       "      <th>1</th>\n",
       "      <td>NC_005089.1:COX1:5855:+|chr8:Tacc1:25227362:-|fus</td>\n",
       "      <td>NaN</td>\n",
       "      <td>NaN</td>\n",
       "      <td>Tacc1</td>\n",
       "      <td>COX1</td>\n",
       "      <td>Chimeric</td>\n",
       "      <td>5855</td>\n",
       "      <td>25227362</td>\n",
       "      <td>NC_005089.1</td>\n",
       "      <td>chr8</td>\n",
       "      <td>...</td>\n",
       "      <td>4.000</td>\n",
       "      <td>0.1276</td>\n",
       "      <td>0.0</td>\n",
       "      <td>0.0</td>\n",
       "      <td>CTATTATCAACATGAAACCCCCAGCCATAACACCTGTCTCTTATAC...</td>\n",
       "      <td>0</td>\n",
       "      <td>2064.0</td>\n",
       "      <td>29</td>\n",
       "      <td>22</td>\n",
       "      <td>LS-15395_S47_E1-50</td>\n",
       "    </tr>\n",
       "    <tr>\n",
       "      <th>2</th>\n",
       "      <td>NC_005089.1:COX1:5881:+|chr8:Tacc1:25227359:-|fus</td>\n",
       "      <td>NaN</td>\n",
       "      <td>NaN</td>\n",
       "      <td>Tacc1</td>\n",
       "      <td>COX1</td>\n",
       "      <td>Chimeric</td>\n",
       "      <td>5881</td>\n",
       "      <td>25227359</td>\n",
       "      <td>NC_005089.1</td>\n",
       "      <td>chr8</td>\n",
       "      <td>...</td>\n",
       "      <td>4.000</td>\n",
       "      <td>0.2544</td>\n",
       "      <td>0.0</td>\n",
       "      <td>0.0</td>\n",
       "      <td>GCCATAACACAGTATCAAACTCCACTATTTGTCCTGTCTCTTATAC...</td>\n",
       "      <td>0</td>\n",
       "      <td>2064.0</td>\n",
       "      <td>32</td>\n",
       "      <td>19</td>\n",
       "      <td>LS-15395_S47_E1-50</td>\n",
       "    </tr>\n",
       "    <tr>\n",
       "      <th>3</th>\n",
       "      <td>NC_005089.1:COX1:6061:+|chr8:Tacc1:25227358:-|fus</td>\n",
       "      <td>NaN</td>\n",
       "      <td>NaN</td>\n",
       "      <td>Tacc1</td>\n",
       "      <td>COX1</td>\n",
       "      <td>Chimeric</td>\n",
       "      <td>6061</td>\n",
       "      <td>25227358</td>\n",
       "      <td>NC_005089.1</td>\n",
       "      <td>chr8</td>\n",
       "      <td>...</td>\n",
       "      <td>4.000</td>\n",
       "      <td>0.2912</td>\n",
       "      <td>0.0</td>\n",
       "      <td>0.0</td>\n",
       "      <td>GTTCTGATTCTTTGGGCACCCAGAAGTTTATATCTGTCTCTTATAC...</td>\n",
       "      <td>0</td>\n",
       "      <td>2064.0</td>\n",
       "      <td>33</td>\n",
       "      <td>18</td>\n",
       "      <td>LS-15395_S47_E1-50</td>\n",
       "    </tr>\n",
       "    <tr>\n",
       "      <th>4</th>\n",
       "      <td>NC_005089.1:COX1:6159:+|NC_005089.1:unknown:62...</td>\n",
       "      <td>NaN</td>\n",
       "      <td>NaN</td>\n",
       "      <td>unknown_NC_005089.1_0</td>\n",
       "      <td>COX1</td>\n",
       "      <td>Chimeric</td>\n",
       "      <td>6159</td>\n",
       "      <td>6228</td>\n",
       "      <td>NC_005089.1</td>\n",
       "      <td>NC_005089.1</td>\n",
       "      <td>...</td>\n",
       "      <td>3.762</td>\n",
       "      <td>0.0048</td>\n",
       "      <td>0.0</td>\n",
       "      <td>0.0</td>\n",
       "      <td>ATATAGGAATAGTATGAGCAATAATGTCTACATCTAATCCTACTGT...</td>\n",
       "      <td>2048</td>\n",
       "      <td>16.0</td>\n",
       "      <td>24</td>\n",
       "      <td>27</td>\n",
       "      <td>LS-15395_S47_E1-50</td>\n",
       "    </tr>\n",
       "  </tbody>\n",
       "</table>\n",
       "<p>5 rows × 57 columns</p>\n",
       "</div>"
      ],
      "text/plain": [
       "                                       refName_newR1  geneR1B_ensembl  \\\n",
       "0   NC_005089.1:COX1:5705:+|chr18:Zeb1:5701165:+|fus              NaN   \n",
       "1  NC_005089.1:COX1:5855:+|chr8:Tacc1:25227362:-|fus              NaN   \n",
       "2  NC_005089.1:COX1:5881:+|chr8:Tacc1:25227359:-|fus              NaN   \n",
       "3  NC_005089.1:COX1:6061:+|chr8:Tacc1:25227358:-|fus              NaN   \n",
       "4  NC_005089.1:COX1:6159:+|NC_005089.1:unknown:62...              NaN   \n",
       "\n",
       "   geneR1A_ensembl           geneR1B_uniq geneR1A_uniq fileTypeR1  juncPosR1A  \\\n",
       "0              NaN                   Zeb1         COX1   Chimeric        5705   \n",
       "1              NaN                  Tacc1         COX1   Chimeric        5855   \n",
       "2              NaN                  Tacc1         COX1   Chimeric        5881   \n",
       "3              NaN                  Tacc1         COX1   Chimeric        6061   \n",
       "4              NaN  unknown_NC_005089.1_0         COX1   Chimeric        6159   \n",
       "\n",
       "   juncPosR1B       chrR1A       chrR1B  ... min_entropyR2  \\\n",
       "0     5701165  NC_005089.1        chr18  ...         1.772   \n",
       "1    25227362  NC_005089.1         chr8  ...         4.000   \n",
       "2    25227359  NC_005089.1         chr8  ...         4.000   \n",
       "3    25227358  NC_005089.1         chr8  ...         4.000   \n",
       "4        6228  NC_005089.1  NC_005089.1  ...         3.762   \n",
       "\n",
       "  p_val_median_overlap_R1 emp.p_glmnet_constrained  \\\n",
       "0                  0.3192                      0.0   \n",
       "1                  0.1276                      0.0   \n",
       "2                  0.2544                      0.0   \n",
       "3                  0.2912                      0.0   \n",
       "4                  0.0048                      0.0   \n",
       "\n",
       "  emp.p_glmnet_corrected_constrained  \\\n",
       "0                                0.0   \n",
       "1                                0.0   \n",
       "2                                0.0   \n",
       "3                                0.0   \n",
       "4                                0.0   \n",
       "\n",
       "                                               seqR1  flagR1A  flagR1B  \\\n",
       "0  ATAGTAGAAGCAGGAGCAGGAACAGGATGATGCTAGGAGTCTACCC...        0   2048.0   \n",
       "1  CTATTATCAACATGAAACCCCCAGCCATAACACCTGTCTCTTATAC...        0   2064.0   \n",
       "2  GCCATAACACAGTATCAAACTCCACTATTTGTCCTGTCTCTTATAC...        0   2064.0   \n",
       "3  GTTCTGATTCTTTGGGCACCCAGAAGTTTATATCTGTCTCTTATAC...        0   2064.0   \n",
       "4  ATATAGGAATAGTATGAGCAATAATGTCTACATCTAATCCTACTGT...     2048     16.0   \n",
       "\n",
       "   readoverhang1_length  readoverhang2_length              sample  \n",
       "0                    30                    21  LS-15395_S47_E1-50  \n",
       "1                    29                    22  LS-15395_S47_E1-50  \n",
       "2                    32                    19  LS-15395_S47_E1-50  \n",
       "3                    33                    18  LS-15395_S47_E1-50  \n",
       "4                    24                    27  LS-15395_S47_E1-50  \n",
       "\n",
       "[5 rows x 57 columns]"
      ]
     },
     "execution_count": 13,
     "metadata": {},
     "output_type": "execute_result"
    }
   ],
   "source": [
    "df = pd.DataFrame()\n",
    "for fpath in glm_paths:\n",
    "    sample = fpath.split('/')[-2]\n",
    "    sub_df = pd.read_csv(fpath,sep='\\t')\n",
    "    sub_df['sample'] = sample\n",
    "    \n",
    "    df = pd.concat((df,sub_df))\n",
    "    \n",
    "df.head()"
   ]
  },
  {
   "cell_type": "code",
   "execution_count": 10,
   "metadata": {},
   "outputs": [
    {
     "data": {
      "text/plain": [
       "(679448, 57)"
      ]
     },
     "execution_count": 10,
     "metadata": {},
     "output_type": "execute_result"
    }
   ],
   "source": [
    "df.shape"
   ]
  },
  {
   "cell_type": "code",
   "execution_count": 27,
   "metadata": {},
   "outputs": [
    {
     "data": {
      "text/plain": [
       "'TTACTTATTGAACGATGTAAGAAATTTGGGTGACAGTCCAATGCACATATG'"
      ]
     },
     "execution_count": 27,
     "metadata": {},
     "output_type": "execute_result"
    }
   ],
   "source": [
    "flrt3_df = df[df['refName_newR1'].str.contains('Flrt3.*Flrt3')]\n",
    "flrt3_df.iloc[0]['seqR1']"
   ]
  },
  {
   "cell_type": "code",
   "execution_count": 30,
   "metadata": {},
   "outputs": [
    {
     "data": {
      "text/html": [
       "<div>\n",
       "<style scoped>\n",
       "    .dataframe tbody tr th:only-of-type {\n",
       "        vertical-align: middle;\n",
       "    }\n",
       "\n",
       "    .dataframe tbody tr th {\n",
       "        vertical-align: top;\n",
       "    }\n",
       "\n",
       "    .dataframe thead th {\n",
       "        text-align: right;\n",
       "    }\n",
       "</style>\n",
       "<table border=\"1\" class=\"dataframe\">\n",
       "  <thead>\n",
       "    <tr style=\"text-align: right;\">\n",
       "      <th></th>\n",
       "      <th>refName_newR1</th>\n",
       "    </tr>\n",
       "  </thead>\n",
       "  <tbody>\n",
       "    <tr>\n",
       "      <th>68716</th>\n",
       "      <td>chr2:Flrt3:140662708:-|chr2:Flrt3:140661751:-|lin</td>\n",
       "    </tr>\n",
       "  </tbody>\n",
       "</table>\n",
       "</div>"
      ],
      "text/plain": [
       "                                           refName_newR1\n",
       "68716  chr2:Flrt3:140662708:-|chr2:Flrt3:140661751:-|lin"
      ]
     },
     "execution_count": 30,
     "metadata": {},
     "output_type": "execute_result"
    }
   ],
   "source": [
    "flrt3_df[['refName_newR1']]"
   ]
  },
  {
   "cell_type": "code",
   "execution_count": 37,
   "metadata": {},
   "outputs": [
    {
     "name": "stdout",
     "output_type": "stream",
     "text": [
      "SDW062406C:186:C9HCHANXX:6:1212:1135:56596\t256\t6\t140105639\t0\t39M938538N12M\t-1\t-1\t51\tCTTCTGAGTGTCTGAGGACAGCTACAGTGTACTTACATATCTGTCTCTTAT\tarray('B', [32, 33, 33, 33, 34, 37, 31, 38, 35, 38, 38, 38, 38, 38, 38, 38, 38, 38, 38, 38, 38, 38, 38, 38, 38, 38, 38, 38, 38, 38, 38, 38, 38, 38, 38, 38, 38, 38, 38, 38, 38, 38, 38, 38, 38, 38, 38, 38, 38, 38, 38])\t[('NH', 6), ('HI', 2), ('AS', 38), ('nM', 0), ('NM', 0), ('MD', '51'), ('jM', array('b', [0])), ('jI', array('i', [140105679, 141044216]))]\n",
      "SDW062406C:186:C9HCHANXX:6:1315:7217:47212\t256\t6\t140105639\t0\t39M938538N12M\t-1\t-1\t51\tCTTCTGAGTGTCTGAGGACAGCTACAGTGTACTTACATATCTGTCTCTTAT\tarray('B', [18, 27, 33, 33, 31, 36, 38, 37, 38, 38, 38, 38, 38, 38, 38, 38, 38, 38, 38, 38, 38, 38, 38, 38, 38, 36, 38, 38, 38, 34, 38, 38, 36, 38, 38, 38, 38, 38, 38, 38, 38, 38, 38, 38, 38, 38, 38, 38, 38, 38, 38])\t[('NH', 6), ('HI', 2), ('AS', 38), ('nM', 0), ('NM', 0), ('MD', '51'), ('jM', array('b', [0])), ('jI', array('i', [140105679, 141044216]))]\n",
      "SDW062406C:186:C9HCHANXX:6:1305:7626:73125\t0\t6\t140452657\t255\t29M372365N22M\t-1\t-1\t51\tGCTAGAGGTGGATGCAATCGTCAATGCGGCAAATGCCAGTCTTCTCGGAGG\tarray('B', [28, 33, 33, 31, 33, 34, 34, 35, 38, 38, 38, 36, 38, 38, 38, 38, 38, 38, 38, 38, 38, 38, 29, 33, 37, 38, 38, 38, 38, 38, 38, 38, 38, 38, 38, 38, 38, 36, 38, 38, 38, 38, 38, 38, 38, 38, 38, 38, 33, 36, 35])\t[('NH', 1), ('HI', 1), ('AS', 48), ('nM', 0), ('NM', 0), ('MD', '51'), ('jM', array('b', [21])), ('jI', array('i', [140452687, 140825051]))]\n",
      "SDW062406C:186:C9HCHANXX:6:2201:13005:30966\t0\t6\t140452663\t255\t23M372365N28M\t-1\t-1\t51\tGGTGGATGCAATCGTCAATGCGGCAAATGCCAGTCTTCTCGGAGGAGGAGG\tarray('B', [18, 18, 27, 15, 15, 15, 28, 36, 38, 38, 38, 38, 38, 38, 38, 15, 34, 38, 38, 38, 34, 33, 34, 38, 38, 38, 38, 38, 34, 31, 37, 37, 34, 38, 38, 38, 38, 38, 38, 34, 29, 37, 35, 38, 38, 27, 37, 35, 33, 33, 2])\t[('NH', 1), ('HI', 1), ('AS', 48), ('nM', 0), ('NM', 0), ('MD', '51'), ('jM', array('b', [21])), ('jI', array('i', [140452687, 140825051]))]\n",
      "SDW062406C:186:C9HCHANXX:6:1311:16035:41221\t256\t6\t140490157\t0\t19M655955N32M\t-1\t-1\t51\tCTGGAGAGTCCTTAGTGAGTGAGTTCCAGGACAGCCAGGGCTATACAGAGA\tarray('B', [18, 31, 33, 33, 33, 38, 36, 38, 38, 38, 38, 38, 38, 38, 38, 38, 37, 38, 38, 38, 38, 38, 38, 38, 38, 38, 38, 38, 38, 38, 38, 38, 38, 38, 38, 38, 38, 38, 38, 38, 38, 38, 38, 38, 38, 38, 38, 38, 38, 38, 38])\t[('NH', 7), ('HI', 2), ('AS', 36), ('nM', 5), ('NM', 5), ('MD', '13G0A1A0C0A32'), ('jM', array('b', [1])), ('jI', array('i', [140490177, 141146131]))]\n"
     ]
    }
   ],
   "source": [
    "f = pysam.AlignmentFile('/scratch/PI/horence/rob/single_cell_project/output/20210119_ss2_cells_paired/LS-15395_S50_E1-50/1Aligned.out.bam.sorted')\n",
    "for r in f.fetch('chr2',140671246,140671476):\n",
    "    print(r)"
   ]
  },
  {
   "cell_type": "code",
   "execution_count": 31,
   "metadata": {},
   "outputs": [
    {
     "name": "stdout",
     "output_type": "stream",
     "text": [
      "/scratch/PI/horence/rob/single_cell_project/output/20210119_ss2_cells_paired/LS-15395_S47_E1-50/1Aligned.out.bam\n",
      "/scratch/PI/horence/rob/single_cell_project/output/20210119_ss2_cells_paired/LS-15395_S47_E1-50/2Aligned.out.bam\n",
      "/scratch/PI/horence/rob/single_cell_project/output/20210119_ss2_cells_paired/LS-15395_S50_E1-50/1Aligned.out.bam\n",
      "/scratch/PI/horence/rob/single_cell_project/output/20210119_ss2_cells_paired/LS-15395_S50_E1-50/2Aligned.out.bam\n",
      "/scratch/PI/horence/rob/single_cell_project/output/20210119_ss2_cells_paired/LS-15395_S48_E1-50/1Aligned.out.bam\n",
      "/scratch/PI/horence/rob/single_cell_project/output/20210119_ss2_cells_paired/LS-15395_S48_E1-50/2Aligned.out.bam\n",
      "/scratch/PI/horence/rob/single_cell_project/output/20210119_ss2_cells_paired/LS-15395_S49_E1-50/1Aligned.out.bam\n",
      "/scratch/PI/horence/rob/single_cell_project/output/20210119_ss2_cells_paired/LS-15395_S49_E1-50/2Aligned.out.bam\n",
      "/scratch/PI/horence/rob/single_cell_project/output/20210119_ss2_cells_paired/LS-15395_S52_E1-50/1Aligned.out.bam\n",
      "/scratch/PI/horence/rob/single_cell_project/output/20210119_ss2_cells_paired/LS-15395_S52_E1-50/2Aligned.out.bam\n",
      "/scratch/PI/horence/rob/single_cell_project/output/20210119_ss2_cells_paired/LS-15395_S51_E1-50/1Aligned.out.bam\n",
      "/scratch/PI/horence/rob/single_cell_project/output/20210119_ss2_cells_paired/LS-15395_S51_E1-50/2Aligned.out.bam\n"
     ]
    }
   ],
   "source": [
    "for bam_path in bam_paths:\n",
    "    print(bam_path)"
   ]
  }
 ],
 "metadata": {
  "kernelspec": {
   "display_name": "Python 3",
   "language": "python",
   "name": "python3"
  },
  "language_info": {
   "codemirror_mode": {
    "name": "ipython",
    "version": 3
   },
   "file_extension": ".py",
   "mimetype": "text/x-python",
   "name": "python",
   "nbconvert_exporter": "python",
   "pygments_lexer": "ipython3",
   "version": "3.6.1"
  }
 },
 "nbformat": 4,
 "nbformat_minor": 2
}
