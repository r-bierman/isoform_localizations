{
 "cells": [
  {
   "cell_type": "code",
   "execution_count": 1,
   "metadata": {
    "collapsed": true
   },
   "outputs": [],
   "source": [
    "import pandas as pd\n",
    "import numpy as np\n",
    "import glob\n",
    "import sys\n",
    "import os\n",
    "\n",
    "import matplotlib.pyplot as plt\n",
    "import seaborn as sns\n",
    "\n",
    "sys.path.append('../scripts')\n",
    "\n",
    "import plot_utils\n",
    "import spatial_utils"
   ]
  },
  {
   "cell_type": "code",
   "execution_count": 295,
   "metadata": {},
   "outputs": [
    {
     "data": {
      "text/html": [
       "<div>\n",
       "<style scoped>\n",
       "    .dataframe tbody tr th:only-of-type {\n",
       "        vertical-align: middle;\n",
       "    }\n",
       "\n",
       "    .dataframe tbody tr th {\n",
       "        vertical-align: top;\n",
       "    }\n",
       "\n",
       "    .dataframe thead th {\n",
       "        text-align: right;\n",
       "    }\n",
       "</style>\n",
       "<table border=\"1\" class=\"dataframe\">\n",
       "  <thead>\n",
       "    <tr style=\"text-align: right;\">\n",
       "      <th></th>\n",
       "      <th>global_x</th>\n",
       "      <th>global_y</th>\n",
       "      <th>global_z</th>\n",
       "      <th>target_molecule_name</th>\n",
       "      <th>num_assigned_cells</th>\n",
       "      <th>cell_id</th>\n",
       "      <th>sample</th>\n",
       "      <th>min_boundary_dist</th>\n",
       "      <th>clust_id</th>\n",
       "      <th>rank</th>\n",
       "      <th>cell_spot_num</th>\n",
       "      <th>normalized_rank</th>\n",
       "    </tr>\n",
       "  </thead>\n",
       "  <tbody>\n",
       "    <tr>\n",
       "      <th>0</th>\n",
       "      <td>-4237.7397</td>\n",
       "      <td>1681.8490</td>\n",
       "      <td>0.0</td>\n",
       "      <td>Acta2</td>\n",
       "      <td>1</td>\n",
       "      <td>217951229059897556843731256135790480948</td>\n",
       "      <td>mouse1sample2</td>\n",
       "      <td>4.981020</td>\n",
       "      <td>2</td>\n",
       "      <td>1128.0</td>\n",
       "      <td>1256.0</td>\n",
       "      <td>0.898089</td>\n",
       "    </tr>\n",
       "    <tr>\n",
       "      <th>1</th>\n",
       "      <td>-4215.4233</td>\n",
       "      <td>1699.2443</td>\n",
       "      <td>0.0</td>\n",
       "      <td>Acta2</td>\n",
       "      <td>1</td>\n",
       "      <td>271699149458331512543397347819513343392</td>\n",
       "      <td>mouse1sample2</td>\n",
       "      <td>1.670875</td>\n",
       "      <td>2</td>\n",
       "      <td>502.0</td>\n",
       "      <td>1216.0</td>\n",
       "      <td>0.412829</td>\n",
       "    </tr>\n",
       "    <tr>\n",
       "      <th>2</th>\n",
       "      <td>-4207.3945</td>\n",
       "      <td>1706.8620</td>\n",
       "      <td>0.0</td>\n",
       "      <td>Acta2</td>\n",
       "      <td>1</td>\n",
       "      <td>271699149458331512543397347819513343392</td>\n",
       "      <td>mouse1sample2</td>\n",
       "      <td>5.015634</td>\n",
       "      <td>2</td>\n",
       "      <td>1144.0</td>\n",
       "      <td>1216.0</td>\n",
       "      <td>0.940789</td>\n",
       "    </tr>\n",
       "    <tr>\n",
       "      <th>3</th>\n",
       "      <td>-4206.7200</td>\n",
       "      <td>1711.7010</td>\n",
       "      <td>0.0</td>\n",
       "      <td>Acta2</td>\n",
       "      <td>1</td>\n",
       "      <td>271699149458331512543397347819513343392</td>\n",
       "      <td>mouse1sample2</td>\n",
       "      <td>0.636409</td>\n",
       "      <td>2</td>\n",
       "      <td>151.0</td>\n",
       "      <td>1216.0</td>\n",
       "      <td>0.124178</td>\n",
       "    </tr>\n",
       "    <tr>\n",
       "      <th>4</th>\n",
       "      <td>-4270.8410</td>\n",
       "      <td>1726.0154</td>\n",
       "      <td>0.0</td>\n",
       "      <td>Acta2</td>\n",
       "      <td>1</td>\n",
       "      <td>29559620824861669263446897425219499530</td>\n",
       "      <td>mouse1sample2</td>\n",
       "      <td>3.183747</td>\n",
       "      <td>2</td>\n",
       "      <td>686.0</td>\n",
       "      <td>852.0</td>\n",
       "      <td>0.805164</td>\n",
       "    </tr>\n",
       "  </tbody>\n",
       "</table>\n",
       "</div>"
      ],
      "text/plain": [
       "    global_x   global_y  global_z target_molecule_name  num_assigned_cells  \\\n",
       "0 -4237.7397  1681.8490       0.0                Acta2                   1   \n",
       "1 -4215.4233  1699.2443       0.0                Acta2                   1   \n",
       "2 -4207.3945  1706.8620       0.0                Acta2                   1   \n",
       "3 -4206.7200  1711.7010       0.0                Acta2                   1   \n",
       "4 -4270.8410  1726.0154       0.0                Acta2                   1   \n",
       "\n",
       "                                   cell_id         sample  min_boundary_dist  \\\n",
       "0  217951229059897556843731256135790480948  mouse1sample2           4.981020   \n",
       "1  271699149458331512543397347819513343392  mouse1sample2           1.670875   \n",
       "2  271699149458331512543397347819513343392  mouse1sample2           5.015634   \n",
       "3  271699149458331512543397347819513343392  mouse1sample2           0.636409   \n",
       "4   29559620824861669263446897425219499530  mouse1sample2           3.183747   \n",
       "\n",
       "   clust_id    rank  cell_spot_num  normalized_rank  \n",
       "0         2  1128.0         1256.0         0.898089  \n",
       "1         2   502.0         1216.0         0.412829  \n",
       "2         2  1144.0         1216.0         0.940789  \n",
       "3         2   151.0         1216.0         0.124178  \n",
       "4         2   686.0          852.0         0.805164  "
      ]
     },
     "execution_count": 295,
     "metadata": {},
     "output_type": "execute_result"
    }
   ],
   "source": [
    "q90_df = pd.read_csv('../processed_data/q90_min_periph_dists.csv')\n",
    "q90_df.head()"
   ]
  },
  {
   "cell_type": "code",
   "execution_count": 303,
   "metadata": {},
   "outputs": [
    {
     "data": {
      "text/html": [
       "<div>\n",
       "<style scoped>\n",
       "    .dataframe tbody tr th:only-of-type {\n",
       "        vertical-align: middle;\n",
       "    }\n",
       "\n",
       "    .dataframe tbody tr th {\n",
       "        vertical-align: top;\n",
       "    }\n",
       "\n",
       "    .dataframe thead th {\n",
       "        text-align: right;\n",
       "    }\n",
       "</style>\n",
       "<table border=\"1\" class=\"dataframe\">\n",
       "  <thead>\n",
       "    <tr style=\"text-align: right;\">\n",
       "      <th></th>\n",
       "      <th>cell_id</th>\n",
       "      <th>target_molecule_name</th>\n",
       "      <th>num_gene_spots</th>\n",
       "      <th>per_cell_median_periph</th>\n",
       "    </tr>\n",
       "  </thead>\n",
       "  <tbody>\n",
       "    <tr>\n",
       "      <th>0</th>\n",
       "      <td>100024126192764500990464846159908804485</td>\n",
       "      <td>1700022I11Rik</td>\n",
       "      <td>1</td>\n",
       "      <td>0.048751</td>\n",
       "    </tr>\n",
       "    <tr>\n",
       "      <th>1</th>\n",
       "      <td>100024126192764500990464846159908804485</td>\n",
       "      <td>Acta2</td>\n",
       "      <td>4</td>\n",
       "      <td>0.894768</td>\n",
       "    </tr>\n",
       "    <tr>\n",
       "      <th>2</th>\n",
       "      <td>100024126192764500990464846159908804485</td>\n",
       "      <td>Adam2</td>\n",
       "      <td>1</td>\n",
       "      <td>0.752675</td>\n",
       "    </tr>\n",
       "    <tr>\n",
       "      <th>3</th>\n",
       "      <td>100024126192764500990464846159908804485</td>\n",
       "      <td>Adamts4</td>\n",
       "      <td>1</td>\n",
       "      <td>0.859691</td>\n",
       "    </tr>\n",
       "    <tr>\n",
       "      <th>4</th>\n",
       "      <td>100024126192764500990464846159908804485</td>\n",
       "      <td>Adra1b</td>\n",
       "      <td>26</td>\n",
       "      <td>0.325208</td>\n",
       "    </tr>\n",
       "  </tbody>\n",
       "</table>\n",
       "</div>"
      ],
      "text/plain": [
       "                                   cell_id target_molecule_name  \\\n",
       "0  100024126192764500990464846159908804485        1700022I11Rik   \n",
       "1  100024126192764500990464846159908804485                Acta2   \n",
       "2  100024126192764500990464846159908804485                Adam2   \n",
       "3  100024126192764500990464846159908804485              Adamts4   \n",
       "4  100024126192764500990464846159908804485               Adra1b   \n",
       "\n",
       "   num_gene_spots  per_cell_median_periph  \n",
       "0               1                0.048751  \n",
       "1               4                0.894768  \n",
       "2               1                0.752675  \n",
       "3               1                0.859691  \n",
       "4              26                0.325208  "
      ]
     },
     "execution_count": 303,
     "metadata": {},
     "output_type": "execute_result"
    }
   ],
   "source": [
    "per_cell_gene = q90_df.groupby(['cell_id','target_molecule_name']).agg(\n",
    "    num_gene_spots = ('rank','count'),\n",
    "    per_cell_median_periph = ('normalized_rank','median'),\n",
    ").reset_index()\n",
    "per_cell_gene.head()"
   ]
  },
  {
   "cell_type": "code",
   "execution_count": 305,
   "metadata": {},
   "outputs": [
    {
     "data": {
      "text/html": [
       "<div>\n",
       "<style scoped>\n",
       "    .dataframe tbody tr th:only-of-type {\n",
       "        vertical-align: middle;\n",
       "    }\n",
       "\n",
       "    .dataframe tbody tr th {\n",
       "        vertical-align: top;\n",
       "    }\n",
       "\n",
       "    .dataframe thead th {\n",
       "        text-align: right;\n",
       "    }\n",
       "</style>\n",
       "<table border=\"1\" class=\"dataframe\">\n",
       "  <thead>\n",
       "    <tr style=\"text-align: right;\">\n",
       "      <th></th>\n",
       "      <th>num_cells</th>\n",
       "      <th>median_gene_spots_per_cell</th>\n",
       "      <th>obs_med_periph</th>\n",
       "    </tr>\n",
       "    <tr>\n",
       "      <th>target_molecule_name</th>\n",
       "      <th></th>\n",
       "      <th></th>\n",
       "      <th></th>\n",
       "    </tr>\n",
       "  </thead>\n",
       "  <tbody>\n",
       "    <tr>\n",
       "      <th>Cxcl14</th>\n",
       "      <td>17211</td>\n",
       "      <td>2</td>\n",
       "      <td>0.282680</td>\n",
       "    </tr>\n",
       "    <tr>\n",
       "      <th>Gfap</th>\n",
       "      <td>8073</td>\n",
       "      <td>1</td>\n",
       "      <td>0.307045</td>\n",
       "    </tr>\n",
       "    <tr>\n",
       "      <th>Flt1</th>\n",
       "      <td>4728</td>\n",
       "      <td>1</td>\n",
       "      <td>0.314840</td>\n",
       "    </tr>\n",
       "    <tr>\n",
       "      <th>Timp3</th>\n",
       "      <td>13157</td>\n",
       "      <td>2</td>\n",
       "      <td>0.321353</td>\n",
       "    </tr>\n",
       "    <tr>\n",
       "      <th>Aqp4</th>\n",
       "      <td>14779</td>\n",
       "      <td>2</td>\n",
       "      <td>0.333333</td>\n",
       "    </tr>\n",
       "    <tr>\n",
       "      <th>...</th>\n",
       "      <td>...</td>\n",
       "      <td>...</td>\n",
       "      <td>...</td>\n",
       "    </tr>\n",
       "    <tr>\n",
       "      <th>1810046K07Rik</th>\n",
       "      <td>7312</td>\n",
       "      <td>1</td>\n",
       "      <td>0.735475</td>\n",
       "    </tr>\n",
       "    <tr>\n",
       "      <th>Chrna2</th>\n",
       "      <td>13132</td>\n",
       "      <td>1</td>\n",
       "      <td>0.739055</td>\n",
       "    </tr>\n",
       "    <tr>\n",
       "      <th>Corin</th>\n",
       "      <td>6845</td>\n",
       "      <td>1</td>\n",
       "      <td>0.742479</td>\n",
       "    </tr>\n",
       "    <tr>\n",
       "      <th>Col15a1</th>\n",
       "      <td>13965</td>\n",
       "      <td>2</td>\n",
       "      <td>0.753676</td>\n",
       "    </tr>\n",
       "    <tr>\n",
       "      <th>Col24a1</th>\n",
       "      <td>6403</td>\n",
       "      <td>1</td>\n",
       "      <td>0.805838</td>\n",
       "    </tr>\n",
       "  </tbody>\n",
       "</table>\n",
       "<p>252 rows × 3 columns</p>\n",
       "</div>"
      ],
      "text/plain": [
       "                      num_cells  median_gene_spots_per_cell  obs_med_periph\n",
       "target_molecule_name                                                       \n",
       "Cxcl14                    17211                           2        0.282680\n",
       "Gfap                       8073                           1        0.307045\n",
       "Flt1                       4728                           1        0.314840\n",
       "Timp3                     13157                           2        0.321353\n",
       "Aqp4                      14779                           2        0.333333\n",
       "...                         ...                         ...             ...\n",
       "1810046K07Rik              7312                           1        0.735475\n",
       "Chrna2                    13132                           1        0.739055\n",
       "Corin                      6845                           1        0.742479\n",
       "Col15a1                   13965                           2        0.753676\n",
       "Col24a1                    6403                           1        0.805838\n",
       "\n",
       "[252 rows x 3 columns]"
      ]
     },
     "execution_count": 305,
     "metadata": {},
     "output_type": "execute_result"
    }
   ],
   "source": [
    "per_gene = per_cell_gene.groupby('target_molecule_name').agg(\n",
    "    num_cells = ('cell_id', lambda g: g.unique().size),\n",
    "    median_gene_spots_per_cell = ('num_gene_spots', 'median'),\n",
    "    obs_med_periph = ('per_cell_median_periph', 'median'),\n",
    ").sort_values('obs_med_periph')\n",
    "\n",
    "per_gene"
   ]
  },
  {
   "cell_type": "code",
   "execution_count": 309,
   "metadata": {},
   "outputs": [
    {
     "data": {
      "image/png": "[encoded data removed]",
      "text/plain": [
       "<Figure size 432x288 with 1 Axes>"
      ]
     },
     "metadata": {},
     "output_type": "display_data"
    }
   ],
   "source": [
    "sns.scatterplot(\n",
    "    x = 'median_gene_spots_per_cell',\n",
    "    y = 'obs_med_periph',\n",
    "    data = per_gene,\n",
    ")\n",
    "plt.show()\n",
    "plt.close()"
   ]
  },
  {
   "cell_type": "markdown",
   "metadata": {},
   "source": [
    "# Doing per-cluster analysis now"
   ]
  },
  {
   "cell_type": "code",
   "execution_count": 4,
   "metadata": {},
   "outputs": [
    {
     "data": {
      "text/html": [
       "<div>\n",
       "<style scoped>\n",
       "    .dataframe tbody tr th:only-of-type {\n",
       "        vertical-align: middle;\n",
       "    }\n",
       "\n",
       "    .dataframe tbody tr th {\n",
       "        vertical-align: top;\n",
       "    }\n",
       "\n",
       "    .dataframe thead th {\n",
       "        text-align: right;\n",
       "    }\n",
       "</style>\n",
       "<table border=\"1\" class=\"dataframe\">\n",
       "  <thead>\n",
       "    <tr style=\"text-align: right;\">\n",
       "      <th></th>\n",
       "      <th>clust_id</th>\n",
       "      <th>target_molecule_name</th>\n",
       "      <th>num_cells</th>\n",
       "      <th>median_cluster_periph</th>\n",
       "      <th>median_spots_per_cell</th>\n",
       "    </tr>\n",
       "  </thead>\n",
       "  <tbody>\n",
       "    <tr>\n",
       "      <th>0</th>\n",
       "      <td>0</td>\n",
       "      <td>1700022I11Rik</td>\n",
       "      <td>68</td>\n",
       "      <td>0.634946</td>\n",
       "      <td>1.0</td>\n",
       "    </tr>\n",
       "    <tr>\n",
       "      <th>1</th>\n",
       "      <td>0</td>\n",
       "      <td>1810046K07Rik</td>\n",
       "      <td>275</td>\n",
       "      <td>0.712142</td>\n",
       "      <td>1.0</td>\n",
       "    </tr>\n",
       "    <tr>\n",
       "      <th>2</th>\n",
       "      <td>0</td>\n",
       "      <td>5031425F14Rik</td>\n",
       "      <td>106</td>\n",
       "      <td>0.710038</td>\n",
       "      <td>1.0</td>\n",
       "    </tr>\n",
       "    <tr>\n",
       "      <th>3</th>\n",
       "      <td>0</td>\n",
       "      <td>5730522E02Rik</td>\n",
       "      <td>167</td>\n",
       "      <td>0.702632</td>\n",
       "      <td>1.0</td>\n",
       "    </tr>\n",
       "    <tr>\n",
       "      <th>4</th>\n",
       "      <td>0</td>\n",
       "      <td>Acta2</td>\n",
       "      <td>593</td>\n",
       "      <td>0.431034</td>\n",
       "      <td>3.0</td>\n",
       "    </tr>\n",
       "  </tbody>\n",
       "</table>\n",
       "</div>"
      ],
      "text/plain": [
       "   clust_id target_molecule_name  num_cells  median_cluster_periph  \\\n",
       "0         0        1700022I11Rik         68               0.634946   \n",
       "1         0        1810046K07Rik        275               0.712142   \n",
       "2         0        5031425F14Rik        106               0.710038   \n",
       "3         0        5730522E02Rik        167               0.702632   \n",
       "4         0                Acta2        593               0.431034   \n",
       "\n",
       "   median_spots_per_cell  \n",
       "0                    1.0  \n",
       "1                    1.0  \n",
       "2                    1.0  \n",
       "3                    1.0  \n",
       "4                    3.0  "
      ]
     },
     "execution_count": 4,
     "metadata": {},
     "output_type": "execute_result"
    }
   ],
   "source": [
    "q90_df['gene_spot_num'] = (\n",
    "    q90_df.groupby(['cell_id','target_molecule_name'])\n",
    "    ['cell_id']\n",
    "    .transform('count')\n",
    ")\n",
    "\n",
    "per_clust_gene_obs = (\n",
    "    q90_df.groupby(['clust_id','target_molecule_name'])\n",
    "    .agg(\n",
    "        num_cells = ('cell_id', lambda g: g.unique().size),\n",
    "        median_cluster_periph = ('normalized_rank', 'median'),\n",
    "        median_spots_per_cell = ('gene_spot_num', 'median')\n",
    "    )\n",
    "    .reset_index()\n",
    ")\n",
    "per_clust_gene_obs.head()"
   ]
  },
  {
   "cell_type": "code",
   "execution_count": 8,
   "metadata": {},
   "outputs": [
    {
     "data": {
      "text/plain": [
       "221"
      ]
     },
     "execution_count": 8,
     "metadata": {},
     "output_type": "execute_result"
    }
   ],
   "source": [
    "filt_per_clust_gene_obs = per_clust_gene_obs[\n",
    "    per_clust_gene_obs['median_spots_per_cell'].ge(3) &\n",
    "    per_clust_gene_obs['num_cells'].ge(10)\n",
    "]\n",
    "\n",
    "filt_per_clust_gene_obs['target_molecule_name'].unique().size"
   ]
  },
  {
   "cell_type": "code",
   "execution_count": 9,
   "metadata": {},
   "outputs": [
    {
     "data": {
      "text/html": [
       "<div>\n",
       "<style scoped>\n",
       "    .dataframe tbody tr th:only-of-type {\n",
       "        vertical-align: middle;\n",
       "    }\n",
       "\n",
       "    .dataframe tbody tr th {\n",
       "        vertical-align: top;\n",
       "    }\n",
       "\n",
       "    .dataframe thead th {\n",
       "        text-align: right;\n",
       "    }\n",
       "</style>\n",
       "<table border=\"1\" class=\"dataframe\">\n",
       "  <thead>\n",
       "    <tr style=\"text-align: right;\">\n",
       "      <th></th>\n",
       "      <th>clust_id</th>\n",
       "      <th>target_molecule_name</th>\n",
       "      <th>num_cells</th>\n",
       "      <th>median_cluster_periph</th>\n",
       "      <th>median_spots_per_cell</th>\n",
       "    </tr>\n",
       "  </thead>\n",
       "  <tbody>\n",
       "    <tr>\n",
       "      <th>4692</th>\n",
       "      <td>22</td>\n",
       "      <td>Cldn5</td>\n",
       "      <td>25</td>\n",
       "      <td>0.102804</td>\n",
       "      <td>4.0</td>\n",
       "    </tr>\n",
       "    <tr>\n",
       "      <th>7172</th>\n",
       "      <td>32</td>\n",
       "      <td>Gfap</td>\n",
       "      <td>23</td>\n",
       "      <td>0.115897</td>\n",
       "      <td>7.0</td>\n",
       "    </tr>\n",
       "    <tr>\n",
       "      <th>7086</th>\n",
       "      <td>32</td>\n",
       "      <td>Aqp4</td>\n",
       "      <td>26</td>\n",
       "      <td>0.150463</td>\n",
       "      <td>3.0</td>\n",
       "    </tr>\n",
       "    <tr>\n",
       "      <th>1770</th>\n",
       "      <td>7</td>\n",
       "      <td>Flt1</td>\n",
       "      <td>87</td>\n",
       "      <td>0.161000</td>\n",
       "      <td>5.0</td>\n",
       "    </tr>\n",
       "    <tr>\n",
       "      <th>7303</th>\n",
       "      <td>32</td>\n",
       "      <td>Timp3</td>\n",
       "      <td>28</td>\n",
       "      <td>0.163395</td>\n",
       "      <td>4.0</td>\n",
       "    </tr>\n",
       "    <tr>\n",
       "      <th>...</th>\n",
       "      <td>...</td>\n",
       "      <td>...</td>\n",
       "      <td>...</td>\n",
       "      <td>...</td>\n",
       "      <td>...</td>\n",
       "    </tr>\n",
       "    <tr>\n",
       "      <th>3227</th>\n",
       "      <td>14</td>\n",
       "      <td>Col24a1</td>\n",
       "      <td>765</td>\n",
       "      <td>0.822023</td>\n",
       "      <td>8.0</td>\n",
       "    </tr>\n",
       "    <tr>\n",
       "      <th>4195</th>\n",
       "      <td>20</td>\n",
       "      <td>Col24a1</td>\n",
       "      <td>294</td>\n",
       "      <td>0.832811</td>\n",
       "      <td>8.0</td>\n",
       "    </tr>\n",
       "    <tr>\n",
       "      <th>5455</th>\n",
       "      <td>25</td>\n",
       "      <td>Col24a1</td>\n",
       "      <td>193</td>\n",
       "      <td>0.840244</td>\n",
       "      <td>12.0</td>\n",
       "    </tr>\n",
       "    <tr>\n",
       "      <th>6659</th>\n",
       "      <td>30</td>\n",
       "      <td>Col24a1</td>\n",
       "      <td>519</td>\n",
       "      <td>0.846235</td>\n",
       "      <td>20.0</td>\n",
       "    </tr>\n",
       "    <tr>\n",
       "      <th>1015</th>\n",
       "      <td>4</td>\n",
       "      <td>Col24a1</td>\n",
       "      <td>1368</td>\n",
       "      <td>0.855643</td>\n",
       "      <td>9.0</td>\n",
       "    </tr>\n",
       "  </tbody>\n",
       "</table>\n",
       "<p>2833 rows × 5 columns</p>\n",
       "</div>"
      ],
      "text/plain": [
       "      clust_id target_molecule_name  num_cells  median_cluster_periph  \\\n",
       "4692        22                Cldn5         25               0.102804   \n",
       "7172        32                 Gfap         23               0.115897   \n",
       "7086        32                 Aqp4         26               0.150463   \n",
       "1770         7                 Flt1         87               0.161000   \n",
       "7303        32                Timp3         28               0.163395   \n",
       "...        ...                  ...        ...                    ...   \n",
       "3227        14              Col24a1        765               0.822023   \n",
       "4195        20              Col24a1        294               0.832811   \n",
       "5455        25              Col24a1        193               0.840244   \n",
       "6659        30              Col24a1        519               0.846235   \n",
       "1015         4              Col24a1       1368               0.855643   \n",
       "\n",
       "      median_spots_per_cell  \n",
       "4692                    4.0  \n",
       "7172                    7.0  \n",
       "7086                    3.0  \n",
       "1770                    5.0  \n",
       "7303                    4.0  \n",
       "...                     ...  \n",
       "3227                    8.0  \n",
       "4195                    8.0  \n",
       "5455                   12.0  \n",
       "6659                   20.0  \n",
       "1015                    9.0  \n",
       "\n",
       "[2833 rows x 5 columns]"
      ]
     },
     "execution_count": 9,
     "metadata": {},
     "output_type": "execute_result"
    }
   ],
   "source": [
    "filt_per_clust_gene_obs.sort_values('median_cluster_periph')"
   ]
  },
  {
   "cell_type": "code",
   "execution_count": 12,
   "metadata": {},
   "outputs": [
    {
     "data": {
      "image/png": "[encoded data removed]",
      "text/plain": [
       "<Figure size 432x288 with 1 Axes>"
      ]
     },
     "metadata": {},
     "output_type": "display_data"
    }
   ],
   "source": [
    "filt_per_clust_gene_obs['median_cluster_periph'].plot.hist(bins = np.arange(0,1.1,0.1))\n",
    "plt.xlabel('Median cluster periphery score')\n",
    "plt.ylabel('Number of distinct gene/cluster pairs')\n",
    "plt.show()\n",
    "plt.close()"
   ]
  },
  {
   "cell_type": "code",
   "execution_count": 15,
   "metadata": {
    "scrolled": true
   },
   "outputs": [
    {
     "data": {
      "text/html": [
       "<div>\n",
       "<style scoped>\n",
       "    .dataframe tbody tr th:only-of-type {\n",
       "        vertical-align: middle;\n",
       "    }\n",
       "\n",
       "    .dataframe tbody tr th {\n",
       "        vertical-align: top;\n",
       "    }\n",
       "\n",
       "    .dataframe thead th {\n",
       "        text-align: right;\n",
       "    }\n",
       "</style>\n",
       "<table border=\"1\" class=\"dataframe\">\n",
       "  <thead>\n",
       "    <tr style=\"text-align: right;\">\n",
       "      <th></th>\n",
       "      <th>clust_id</th>\n",
       "      <th>target_molecule_name</th>\n",
       "      <th>num_cells</th>\n",
       "      <th>median_cluster_periph</th>\n",
       "      <th>median_spots_per_cell</th>\n",
       "      <th>std</th>\n",
       "    </tr>\n",
       "  </thead>\n",
       "  <tbody>\n",
       "    <tr>\n",
       "      <th>4</th>\n",
       "      <td>0</td>\n",
       "      <td>Acta2</td>\n",
       "      <td>593</td>\n",
       "      <td>0.431034</td>\n",
       "      <td>3.0</td>\n",
       "      <td>0.059933</td>\n",
       "    </tr>\n",
       "    <tr>\n",
       "      <th>8</th>\n",
       "      <td>0</td>\n",
       "      <td>Adra1b</td>\n",
       "      <td>653</td>\n",
       "      <td>0.462865</td>\n",
       "      <td>9.0</td>\n",
       "      <td>0.030613</td>\n",
       "    </tr>\n",
       "    <tr>\n",
       "      <th>10</th>\n",
       "      <td>0</td>\n",
       "      <td>Ankfn1</td>\n",
       "      <td>233</td>\n",
       "      <td>0.614980</td>\n",
       "      <td>5.0</td>\n",
       "      <td>0.023306</td>\n",
       "    </tr>\n",
       "    <tr>\n",
       "      <th>11</th>\n",
       "      <td>0</td>\n",
       "      <td>Ano4</td>\n",
       "      <td>484</td>\n",
       "      <td>0.569839</td>\n",
       "      <td>3.0</td>\n",
       "      <td>0.039445</td>\n",
       "    </tr>\n",
       "    <tr>\n",
       "      <th>12</th>\n",
       "      <td>0</td>\n",
       "      <td>Aqp4</td>\n",
       "      <td>540</td>\n",
       "      <td>0.292058</td>\n",
       "      <td>3.0</td>\n",
       "      <td>0.094341</td>\n",
       "    </tr>\n",
       "  </tbody>\n",
       "</table>\n",
       "</div>"
      ],
      "text/plain": [
       "    clust_id target_molecule_name  num_cells  median_cluster_periph  \\\n",
       "4          0                Acta2        593               0.431034   \n",
       "8          0               Adra1b        653               0.462865   \n",
       "10         0               Ankfn1        233               0.614980   \n",
       "11         0                 Ano4        484               0.569839   \n",
       "12         0                 Aqp4        540               0.292058   \n",
       "\n",
       "    median_spots_per_cell       std  \n",
       "4                     3.0  0.059933  \n",
       "8                     9.0  0.030613  \n",
       "10                    5.0  0.023306  \n",
       "11                    3.0  0.039445  \n",
       "12                    3.0  0.094341  "
      ]
     },
     "execution_count": 15,
     "metadata": {},
     "output_type": "execute_result"
    }
   ],
   "source": [
    "filt_per_clust_gene_obs['std'] = (\n",
    "    filt_per_clust_gene_obs.groupby('target_molecule_name')\n",
    "    ['median_cluster_periph']\n",
    "    .transform('std')\n",
    ")\n",
    "\n",
    "filt_per_clust_gene_obs.head()"
   ]
  },
  {
   "cell_type": "code",
   "execution_count": 17,
   "metadata": {},
   "outputs": [
    {
     "data": {
      "text/html": [
       "<div>\n",
       "<style scoped>\n",
       "    .dataframe tbody tr th:only-of-type {\n",
       "        vertical-align: middle;\n",
       "    }\n",
       "\n",
       "    .dataframe tbody tr th {\n",
       "        vertical-align: top;\n",
       "    }\n",
       "\n",
       "    .dataframe thead th {\n",
       "        text-align: right;\n",
       "    }\n",
       "</style>\n",
       "<table border=\"1\" class=\"dataframe\">\n",
       "  <thead>\n",
       "    <tr style=\"text-align: right;\">\n",
       "      <th></th>\n",
       "      <th>clust_id</th>\n",
       "      <th>target_molecule_name</th>\n",
       "      <th>num_cells</th>\n",
       "      <th>median_cluster_periph</th>\n",
       "      <th>median_spots_per_cell</th>\n",
       "      <th>std</th>\n",
       "    </tr>\n",
       "  </thead>\n",
       "  <tbody>\n",
       "    <tr>\n",
       "      <th>2464</th>\n",
       "      <td>10</td>\n",
       "      <td>Cldn5</td>\n",
       "      <td>21</td>\n",
       "      <td>0.197486</td>\n",
       "      <td>6.0</td>\n",
       "      <td>0.150990</td>\n",
       "    </tr>\n",
       "    <tr>\n",
       "      <th>2217</th>\n",
       "      <td>9</td>\n",
       "      <td>Col15a1</td>\n",
       "      <td>1205</td>\n",
       "      <td>0.792503</td>\n",
       "      <td>5.0</td>\n",
       "      <td>0.148365</td>\n",
       "    </tr>\n",
       "    <tr>\n",
       "      <th>3743</th>\n",
       "      <td>17</td>\n",
       "      <td>Timp3</td>\n",
       "      <td>11</td>\n",
       "      <td>0.557201</td>\n",
       "      <td>13.0</td>\n",
       "      <td>0.122473</td>\n",
       "    </tr>\n",
       "    <tr>\n",
       "      <th>4957</th>\n",
       "      <td>23</td>\n",
       "      <td>Cspg4</td>\n",
       "      <td>49</td>\n",
       "      <td>0.396764</td>\n",
       "      <td>3.0</td>\n",
       "      <td>0.114292</td>\n",
       "    </tr>\n",
       "    <tr>\n",
       "      <th>466</th>\n",
       "      <td>1</td>\n",
       "      <td>Sox10</td>\n",
       "      <td>160</td>\n",
       "      <td>0.285906</td>\n",
       "      <td>3.0</td>\n",
       "      <td>0.106875</td>\n",
       "    </tr>\n",
       "    <tr>\n",
       "      <th>...</th>\n",
       "      <td>...</td>\n",
       "      <td>...</td>\n",
       "      <td>...</td>\n",
       "      <td>...</td>\n",
       "      <td>...</td>\n",
       "      <td>...</td>\n",
       "    </tr>\n",
       "    <tr>\n",
       "      <th>5214</th>\n",
       "      <td>24</td>\n",
       "      <td>Dmkn</td>\n",
       "      <td>79</td>\n",
       "      <td>0.520522</td>\n",
       "      <td>3.0</td>\n",
       "      <td>NaN</td>\n",
       "    </tr>\n",
       "    <tr>\n",
       "      <th>5402</th>\n",
       "      <td>25</td>\n",
       "      <td>B4galnt3</td>\n",
       "      <td>267</td>\n",
       "      <td>0.636877</td>\n",
       "      <td>3.0</td>\n",
       "      <td>NaN</td>\n",
       "    </tr>\n",
       "    <tr>\n",
       "      <th>6629</th>\n",
       "      <td>30</td>\n",
       "      <td>Car3</td>\n",
       "      <td>453</td>\n",
       "      <td>0.513018</td>\n",
       "      <td>4.0</td>\n",
       "      <td>NaN</td>\n",
       "    </tr>\n",
       "    <tr>\n",
       "      <th>7130</th>\n",
       "      <td>32</td>\n",
       "      <td>Chodl</td>\n",
       "      <td>45</td>\n",
       "      <td>0.552055</td>\n",
       "      <td>23.0</td>\n",
       "      <td>NaN</td>\n",
       "    </tr>\n",
       "    <tr>\n",
       "      <th>7565</th>\n",
       "      <td>33</td>\n",
       "      <td>Vipr2</td>\n",
       "      <td>29</td>\n",
       "      <td>0.582250</td>\n",
       "      <td>11.0</td>\n",
       "      <td>NaN</td>\n",
       "    </tr>\n",
       "  </tbody>\n",
       "</table>\n",
       "<p>221 rows × 6 columns</p>\n",
       "</div>"
      ],
      "text/plain": [
       "      clust_id target_molecule_name  num_cells  median_cluster_periph  \\\n",
       "2464        10                Cldn5         21               0.197486   \n",
       "2217         9              Col15a1       1205               0.792503   \n",
       "3743        17                Timp3         11               0.557201   \n",
       "4957        23                Cspg4         49               0.396764   \n",
       "466          1                Sox10        160               0.285906   \n",
       "...        ...                  ...        ...                    ...   \n",
       "5214        24                 Dmkn         79               0.520522   \n",
       "5402        25             B4galnt3        267               0.636877   \n",
       "6629        30                 Car3        453               0.513018   \n",
       "7130        32                Chodl         45               0.552055   \n",
       "7565        33                Vipr2         29               0.582250   \n",
       "\n",
       "      median_spots_per_cell       std  \n",
       "2464                    6.0  0.150990  \n",
       "2217                    5.0  0.148365  \n",
       "3743                   13.0  0.122473  \n",
       "4957                    3.0  0.114292  \n",
       "466                     3.0  0.106875  \n",
       "...                     ...       ...  \n",
       "5214                    3.0       NaN  \n",
       "5402                    3.0       NaN  \n",
       "6629                    4.0       NaN  \n",
       "7130                   23.0       NaN  \n",
       "7565                   11.0       NaN  \n",
       "\n",
       "[221 rows x 6 columns]"
      ]
     },
     "execution_count": 17,
     "metadata": {},
     "output_type": "execute_result"
    }
   ],
   "source": [
    "filt_per_clust_gene_obs.sort_values('std',ascending=False).drop_duplicates('target_molecule_name')"
   ]
  },
  {
   "cell_type": "code",
   "execution_count": 21,
   "metadata": {},
   "outputs": [
    {
     "data": {
      "image/png": "[encoded data removed]",
      "text/plain": [
       "<Figure size 432x288 with 1 Axes>"
      ]
     },
     "metadata": {},
     "output_type": "display_data"
    }
   ],
   "source": [
    "plot_df = filt_per_clust_gene_obs[\n",
    "    filt_per_clust_gene_obs['target_molecule_name'].isin([\n",
    "        'Cldn5',\n",
    "        'Col15a1',\n",
    "        'Timp3',\n",
    "    ])\n",
    "]\n",
    "\n",
    "sns.boxplot(\n",
    "    x = 'target_molecule_name',\n",
    "    y = 'median_cluster_periph',\n",
    "    color = 'grey',\n",
    "    data = plot_df,\n",
    ")\n",
    "\n",
    "sns.swarmplot(\n",
    "    x = 'target_molecule_name',\n",
    "    y = 'median_cluster_periph',\n",
    "    color = 'blue',\n",
    "    data = plot_df,\n",
    ")\n",
    "plt.xlabel('')\n",
    "plt.ylabel('Median periphery score per cluster')\n",
    "plt.show()\n",
    "plt.close()"
   ]
  },
  {
   "cell_type": "code",
   "execution_count": 24,
   "metadata": {},
   "outputs": [
    {
     "data": {
      "text/html": [
       "<div>\n",
       "<style scoped>\n",
       "    .dataframe tbody tr th:only-of-type {\n",
       "        vertical-align: middle;\n",
       "    }\n",
       "\n",
       "    .dataframe tbody tr th {\n",
       "        vertical-align: top;\n",
       "    }\n",
       "\n",
       "    .dataframe thead th {\n",
       "        text-align: right;\n",
       "    }\n",
       "</style>\n",
       "<table border=\"1\" class=\"dataframe\">\n",
       "  <thead>\n",
       "    <tr style=\"text-align: right;\">\n",
       "      <th></th>\n",
       "      <th>clust_id</th>\n",
       "      <th>target_molecule_name</th>\n",
       "      <th>num_cells</th>\n",
       "      <th>median_cluster_periph</th>\n",
       "      <th>median_spots_per_cell</th>\n",
       "      <th>std</th>\n",
       "    </tr>\n",
       "  </thead>\n",
       "  <tbody>\n",
       "    <tr>\n",
       "      <th>4692</th>\n",
       "      <td>22</td>\n",
       "      <td>Cldn5</td>\n",
       "      <td>25</td>\n",
       "      <td>0.102804</td>\n",
       "      <td>4.0</td>\n",
       "      <td>0.15099</td>\n",
       "    </tr>\n",
       "    <tr>\n",
       "      <th>6400</th>\n",
       "      <td>29</td>\n",
       "      <td>Cldn5</td>\n",
       "      <td>48</td>\n",
       "      <td>0.166956</td>\n",
       "      <td>5.0</td>\n",
       "      <td>0.15099</td>\n",
       "    </tr>\n",
       "    <tr>\n",
       "      <th>4440</th>\n",
       "      <td>21</td>\n",
       "      <td>Cldn5</td>\n",
       "      <td>95</td>\n",
       "      <td>0.167694</td>\n",
       "      <td>5.0</td>\n",
       "      <td>0.15099</td>\n",
       "    </tr>\n",
       "    <tr>\n",
       "      <th>3220</th>\n",
       "      <td>14</td>\n",
       "      <td>Cldn5</td>\n",
       "      <td>246</td>\n",
       "      <td>0.178265</td>\n",
       "      <td>5.0</td>\n",
       "      <td>0.15099</td>\n",
       "    </tr>\n",
       "    <tr>\n",
       "      <th>1008</th>\n",
       "      <td>4</td>\n",
       "      <td>Cldn5</td>\n",
       "      <td>399</td>\n",
       "      <td>0.178862</td>\n",
       "      <td>4.0</td>\n",
       "      <td>0.15099</td>\n",
       "    </tr>\n",
       "    <tr>\n",
       "      <th>5951</th>\n",
       "      <td>27</td>\n",
       "      <td>Cldn5</td>\n",
       "      <td>42</td>\n",
       "      <td>0.180599</td>\n",
       "      <td>5.0</td>\n",
       "      <td>0.15099</td>\n",
       "    </tr>\n",
       "    <tr>\n",
       "      <th>2464</th>\n",
       "      <td>10</td>\n",
       "      <td>Cldn5</td>\n",
       "      <td>21</td>\n",
       "      <td>0.197486</td>\n",
       "      <td>6.0</td>\n",
       "      <td>0.15099</td>\n",
       "    </tr>\n",
       "    <tr>\n",
       "      <th>1485</th>\n",
       "      <td>6</td>\n",
       "      <td>Cldn5</td>\n",
       "      <td>430</td>\n",
       "      <td>0.207763</td>\n",
       "      <td>4.0</td>\n",
       "      <td>0.15099</td>\n",
       "    </tr>\n",
       "    <tr>\n",
       "      <th>2968</th>\n",
       "      <td>12</td>\n",
       "      <td>Cldn5</td>\n",
       "      <td>370</td>\n",
       "      <td>0.231173</td>\n",
       "      <td>3.0</td>\n",
       "      <td>0.15099</td>\n",
       "    </tr>\n",
       "    <tr>\n",
       "      <th>5448</th>\n",
       "      <td>25</td>\n",
       "      <td>Cldn5</td>\n",
       "      <td>59</td>\n",
       "      <td>0.257181</td>\n",
       "      <td>4.0</td>\n",
       "      <td>0.15099</td>\n",
       "    </tr>\n",
       "    <tr>\n",
       "      <th>4944</th>\n",
       "      <td>23</td>\n",
       "      <td>Cldn5</td>\n",
       "      <td>52</td>\n",
       "      <td>0.263343</td>\n",
       "      <td>12.0</td>\n",
       "      <td>0.15099</td>\n",
       "    </tr>\n",
       "    <tr>\n",
       "      <th>6652</th>\n",
       "      <td>30</td>\n",
       "      <td>Cldn5</td>\n",
       "      <td>93</td>\n",
       "      <td>0.298238</td>\n",
       "      <td>6.0</td>\n",
       "      <td>0.15099</td>\n",
       "    </tr>\n",
       "    <tr>\n",
       "      <th>4188</th>\n",
       "      <td>20</td>\n",
       "      <td>Cldn5</td>\n",
       "      <td>32</td>\n",
       "      <td>0.309789</td>\n",
       "      <td>3.0</td>\n",
       "      <td>0.15099</td>\n",
       "    </tr>\n",
       "    <tr>\n",
       "      <th>2716</th>\n",
       "      <td>11</td>\n",
       "      <td>Cldn5</td>\n",
       "      <td>69</td>\n",
       "      <td>0.536610</td>\n",
       "      <td>50.0</td>\n",
       "      <td>0.15099</td>\n",
       "    </tr>\n",
       "    <tr>\n",
       "      <th>5699</th>\n",
       "      <td>26</td>\n",
       "      <td>Cldn5</td>\n",
       "      <td>104</td>\n",
       "      <td>0.564753</td>\n",
       "      <td>73.0</td>\n",
       "      <td>0.15099</td>\n",
       "    </tr>\n",
       "    <tr>\n",
       "      <th>1250</th>\n",
       "      <td>5</td>\n",
       "      <td>Cldn5</td>\n",
       "      <td>16</td>\n",
       "      <td>0.582578</td>\n",
       "      <td>104.0</td>\n",
       "      <td>0.15099</td>\n",
       "    </tr>\n",
       "  </tbody>\n",
       "</table>\n",
       "</div>"
      ],
      "text/plain": [
       "      clust_id target_molecule_name  num_cells  median_cluster_periph  \\\n",
       "4692        22                Cldn5         25               0.102804   \n",
       "6400        29                Cldn5         48               0.166956   \n",
       "4440        21                Cldn5         95               0.167694   \n",
       "3220        14                Cldn5        246               0.178265   \n",
       "1008         4                Cldn5        399               0.178862   \n",
       "5951        27                Cldn5         42               0.180599   \n",
       "2464        10                Cldn5         21               0.197486   \n",
       "1485         6                Cldn5        430               0.207763   \n",
       "2968        12                Cldn5        370               0.231173   \n",
       "5448        25                Cldn5         59               0.257181   \n",
       "4944        23                Cldn5         52               0.263343   \n",
       "6652        30                Cldn5         93               0.298238   \n",
       "4188        20                Cldn5         32               0.309789   \n",
       "2716        11                Cldn5         69               0.536610   \n",
       "5699        26                Cldn5        104               0.564753   \n",
       "1250         5                Cldn5         16               0.582578   \n",
       "\n",
       "      median_spots_per_cell      std  \n",
       "4692                    4.0  0.15099  \n",
       "6400                    5.0  0.15099  \n",
       "4440                    5.0  0.15099  \n",
       "3220                    5.0  0.15099  \n",
       "1008                    4.0  0.15099  \n",
       "5951                    5.0  0.15099  \n",
       "2464                    6.0  0.15099  \n",
       "1485                    4.0  0.15099  \n",
       "2968                    3.0  0.15099  \n",
       "5448                    4.0  0.15099  \n",
       "4944                   12.0  0.15099  \n",
       "6652                    6.0  0.15099  \n",
       "4188                    3.0  0.15099  \n",
       "2716                   50.0  0.15099  \n",
       "5699                   73.0  0.15099  \n",
       "1250                  104.0  0.15099  "
      ]
     },
     "execution_count": 24,
     "metadata": {},
     "output_type": "execute_result"
    }
   ],
   "source": [
    "filt_per_clust_gene_obs[filt_per_clust_gene_obs['target_molecule_name'].eq('Cldn5')].sort_values('median_cluster_periph')"
   ]
  },
  {
   "cell_type": "code",
   "execution_count": 25,
   "metadata": {},
   "outputs": [
    {
     "data": {
      "text/html": [
       "<div>\n",
       "<style scoped>\n",
       "    .dataframe tbody tr th:only-of-type {\n",
       "        vertical-align: middle;\n",
       "    }\n",
       "\n",
       "    .dataframe tbody tr th {\n",
       "        vertical-align: top;\n",
       "    }\n",
       "\n",
       "    .dataframe thead th {\n",
       "        text-align: right;\n",
       "    }\n",
       "</style>\n",
       "<table border=\"1\" class=\"dataframe\">\n",
       "  <thead>\n",
       "    <tr style=\"text-align: right;\">\n",
       "      <th></th>\n",
       "      <th>clust_id</th>\n",
       "      <th>target_molecule_name</th>\n",
       "      <th>num_cells</th>\n",
       "      <th>median_cluster_periph</th>\n",
       "      <th>median_spots_per_cell</th>\n",
       "      <th>std</th>\n",
       "    </tr>\n",
       "  </thead>\n",
       "  <tbody>\n",
       "    <tr>\n",
       "      <th>1254</th>\n",
       "      <td>5</td>\n",
       "      <td>Col15a1</td>\n",
       "      <td>14</td>\n",
       "      <td>0.471898</td>\n",
       "      <td>29.0</td>\n",
       "      <td>0.148365</td>\n",
       "    </tr>\n",
       "    <tr>\n",
       "      <th>5704</th>\n",
       "      <td>26</td>\n",
       "      <td>Col15a1</td>\n",
       "      <td>94</td>\n",
       "      <td>0.489094</td>\n",
       "      <td>21.0</td>\n",
       "      <td>0.148365</td>\n",
       "    </tr>\n",
       "    <tr>\n",
       "      <th>2721</th>\n",
       "      <td>11</td>\n",
       "      <td>Col15a1</td>\n",
       "      <td>77</td>\n",
       "      <td>0.509753</td>\n",
       "      <td>24.0</td>\n",
       "      <td>0.148365</td>\n",
       "    </tr>\n",
       "    <tr>\n",
       "      <th>4445</th>\n",
       "      <td>21</td>\n",
       "      <td>Col15a1</td>\n",
       "      <td>369</td>\n",
       "      <td>0.717686</td>\n",
       "      <td>3.0</td>\n",
       "      <td>0.148365</td>\n",
       "    </tr>\n",
       "    <tr>\n",
       "      <th>4949</th>\n",
       "      <td>23</td>\n",
       "      <td>Col15a1</td>\n",
       "      <td>226</td>\n",
       "      <td>0.772926</td>\n",
       "      <td>27.0</td>\n",
       "      <td>0.148365</td>\n",
       "    </tr>\n",
       "    <tr>\n",
       "      <th>4193</th>\n",
       "      <td>20</td>\n",
       "      <td>Col15a1</td>\n",
       "      <td>250</td>\n",
       "      <td>0.791582</td>\n",
       "      <td>4.0</td>\n",
       "      <td>0.148365</td>\n",
       "    </tr>\n",
       "    <tr>\n",
       "      <th>2217</th>\n",
       "      <td>9</td>\n",
       "      <td>Col15a1</td>\n",
       "      <td>1205</td>\n",
       "      <td>0.792503</td>\n",
       "      <td>5.0</td>\n",
       "      <td>0.148365</td>\n",
       "    </tr>\n",
       "    <tr>\n",
       "      <th>1490</th>\n",
       "      <td>6</td>\n",
       "      <td>Col15a1</td>\n",
       "      <td>2343</td>\n",
       "      <td>0.807018</td>\n",
       "      <td>8.0</td>\n",
       "      <td>0.148365</td>\n",
       "    </tr>\n",
       "    <tr>\n",
       "      <th>5453</th>\n",
       "      <td>25</td>\n",
       "      <td>Col15a1</td>\n",
       "      <td>409</td>\n",
       "      <td>0.807447</td>\n",
       "      <td>7.0</td>\n",
       "      <td>0.148365</td>\n",
       "    </tr>\n",
       "  </tbody>\n",
       "</table>\n",
       "</div>"
      ],
      "text/plain": [
       "      clust_id target_molecule_name  num_cells  median_cluster_periph  \\\n",
       "1254         5              Col15a1         14               0.471898   \n",
       "5704        26              Col15a1         94               0.489094   \n",
       "2721        11              Col15a1         77               0.509753   \n",
       "4445        21              Col15a1        369               0.717686   \n",
       "4949        23              Col15a1        226               0.772926   \n",
       "4193        20              Col15a1        250               0.791582   \n",
       "2217         9              Col15a1       1205               0.792503   \n",
       "1490         6              Col15a1       2343               0.807018   \n",
       "5453        25              Col15a1        409               0.807447   \n",
       "\n",
       "      median_spots_per_cell       std  \n",
       "1254                   29.0  0.148365  \n",
       "5704                   21.0  0.148365  \n",
       "2721                   24.0  0.148365  \n",
       "4445                    3.0  0.148365  \n",
       "4949                   27.0  0.148365  \n",
       "4193                    4.0  0.148365  \n",
       "2217                    5.0  0.148365  \n",
       "1490                    8.0  0.148365  \n",
       "5453                    7.0  0.148365  "
      ]
     },
     "execution_count": 25,
     "metadata": {},
     "output_type": "execute_result"
    }
   ],
   "source": [
    "filt_per_clust_gene_obs[filt_per_clust_gene_obs['target_molecule_name'].eq('Col15a1')].sort_values('median_cluster_periph')"
   ]
  },
  {
   "cell_type": "code",
   "execution_count": 26,
   "metadata": {},
   "outputs": [
    {
     "data": {
      "text/html": [
       "<div>\n",
       "<style scoped>\n",
       "    .dataframe tbody tr th:only-of-type {\n",
       "        vertical-align: middle;\n",
       "    }\n",
       "\n",
       "    .dataframe tbody tr th {\n",
       "        vertical-align: top;\n",
       "    }\n",
       "\n",
       "    .dataframe thead th {\n",
       "        text-align: right;\n",
       "    }\n",
       "</style>\n",
       "<table border=\"1\" class=\"dataframe\">\n",
       "  <thead>\n",
       "    <tr style=\"text-align: right;\">\n",
       "      <th></th>\n",
       "      <th>clust_id</th>\n",
       "      <th>target_molecule_name</th>\n",
       "      <th>num_cells</th>\n",
       "      <th>median_cluster_periph</th>\n",
       "      <th>median_spots_per_cell</th>\n",
       "      <th>std</th>\n",
       "    </tr>\n",
       "  </thead>\n",
       "  <tbody>\n",
       "    <tr>\n",
       "      <th>7303</th>\n",
       "      <td>32</td>\n",
       "      <td>Timp3</td>\n",
       "      <td>28</td>\n",
       "      <td>0.163395</td>\n",
       "      <td>4.0</td>\n",
       "      <td>0.122473</td>\n",
       "    </tr>\n",
       "    <tr>\n",
       "      <th>4358</th>\n",
       "      <td>20</td>\n",
       "      <td>Timp3</td>\n",
       "      <td>150</td>\n",
       "      <td>0.215385</td>\n",
       "      <td>3.0</td>\n",
       "      <td>0.122473</td>\n",
       "    </tr>\n",
       "    <tr>\n",
       "      <th>6822</th>\n",
       "      <td>30</td>\n",
       "      <td>Timp3</td>\n",
       "      <td>278</td>\n",
       "      <td>0.237515</td>\n",
       "      <td>3.0</td>\n",
       "      <td>0.122473</td>\n",
       "    </tr>\n",
       "    <tr>\n",
       "      <th>1655</th>\n",
       "      <td>6</td>\n",
       "      <td>Timp3</td>\n",
       "      <td>1582</td>\n",
       "      <td>0.253583</td>\n",
       "      <td>3.0</td>\n",
       "      <td>0.122473</td>\n",
       "    </tr>\n",
       "    <tr>\n",
       "      <th>2131</th>\n",
       "      <td>8</td>\n",
       "      <td>Timp3</td>\n",
       "      <td>15</td>\n",
       "      <td>0.263033</td>\n",
       "      <td>7.0</td>\n",
       "      <td>0.122473</td>\n",
       "    </tr>\n",
       "    <tr>\n",
       "      <th>1178</th>\n",
       "      <td>4</td>\n",
       "      <td>Timp3</td>\n",
       "      <td>1960</td>\n",
       "      <td>0.265241</td>\n",
       "      <td>3.0</td>\n",
       "      <td>0.122473</td>\n",
       "    </tr>\n",
       "    <tr>\n",
       "      <th>3390</th>\n",
       "      <td>14</td>\n",
       "      <td>Timp3</td>\n",
       "      <td>993</td>\n",
       "      <td>0.269511</td>\n",
       "      <td>3.0</td>\n",
       "      <td>0.122473</td>\n",
       "    </tr>\n",
       "    <tr>\n",
       "      <th>231</th>\n",
       "      <td>0</td>\n",
       "      <td>Timp3</td>\n",
       "      <td>441</td>\n",
       "      <td>0.272813</td>\n",
       "      <td>3.0</td>\n",
       "      <td>0.122473</td>\n",
       "    </tr>\n",
       "    <tr>\n",
       "      <th>5366</th>\n",
       "      <td>24</td>\n",
       "      <td>Timp3</td>\n",
       "      <td>85</td>\n",
       "      <td>0.315426</td>\n",
       "      <td>4.0</td>\n",
       "      <td>0.122473</td>\n",
       "    </tr>\n",
       "    <tr>\n",
       "      <th>2634</th>\n",
       "      <td>10</td>\n",
       "      <td>Timp3</td>\n",
       "      <td>64</td>\n",
       "      <td>0.368977</td>\n",
       "      <td>4.0</td>\n",
       "      <td>0.122473</td>\n",
       "    </tr>\n",
       "    <tr>\n",
       "      <th>5114</th>\n",
       "      <td>23</td>\n",
       "      <td>Timp3</td>\n",
       "      <td>279</td>\n",
       "      <td>0.390183</td>\n",
       "      <td>7.0</td>\n",
       "      <td>0.122473</td>\n",
       "    </tr>\n",
       "    <tr>\n",
       "      <th>6121</th>\n",
       "      <td>27</td>\n",
       "      <td>Timp3</td>\n",
       "      <td>243</td>\n",
       "      <td>0.419239</td>\n",
       "      <td>6.0</td>\n",
       "      <td>0.122473</td>\n",
       "    </tr>\n",
       "    <tr>\n",
       "      <th>4610</th>\n",
       "      <td>21</td>\n",
       "      <td>Timp3</td>\n",
       "      <td>626</td>\n",
       "      <td>0.461392</td>\n",
       "      <td>16.0</td>\n",
       "      <td>0.122473</td>\n",
       "    </tr>\n",
       "    <tr>\n",
       "      <th>7054</th>\n",
       "      <td>31</td>\n",
       "      <td>Timp3</td>\n",
       "      <td>13</td>\n",
       "      <td>0.474884</td>\n",
       "      <td>18.0</td>\n",
       "      <td>0.122473</td>\n",
       "    </tr>\n",
       "    <tr>\n",
       "      <th>5869</th>\n",
       "      <td>26</td>\n",
       "      <td>Timp3</td>\n",
       "      <td>104</td>\n",
       "      <td>0.488879</td>\n",
       "      <td>81.0</td>\n",
       "      <td>0.122473</td>\n",
       "    </tr>\n",
       "    <tr>\n",
       "      <th>2886</th>\n",
       "      <td>11</td>\n",
       "      <td>Timp3</td>\n",
       "      <td>93</td>\n",
       "      <td>0.509101</td>\n",
       "      <td>75.0</td>\n",
       "      <td>0.122473</td>\n",
       "    </tr>\n",
       "    <tr>\n",
       "      <th>1404</th>\n",
       "      <td>5</td>\n",
       "      <td>Timp3</td>\n",
       "      <td>16</td>\n",
       "      <td>0.525170</td>\n",
       "      <td>103.0</td>\n",
       "      <td>0.122473</td>\n",
       "    </tr>\n",
       "    <tr>\n",
       "      <th>3743</th>\n",
       "      <td>17</td>\n",
       "      <td>Timp3</td>\n",
       "      <td>11</td>\n",
       "      <td>0.557201</td>\n",
       "      <td>13.0</td>\n",
       "      <td>0.122473</td>\n",
       "    </tr>\n",
       "  </tbody>\n",
       "</table>\n",
       "</div>"
      ],
      "text/plain": [
       "      clust_id target_molecule_name  num_cells  median_cluster_periph  \\\n",
       "7303        32                Timp3         28               0.163395   \n",
       "4358        20                Timp3        150               0.215385   \n",
       "6822        30                Timp3        278               0.237515   \n",
       "1655         6                Timp3       1582               0.253583   \n",
       "2131         8                Timp3         15               0.263033   \n",
       "1178         4                Timp3       1960               0.265241   \n",
       "3390        14                Timp3        993               0.269511   \n",
       "231          0                Timp3        441               0.272813   \n",
       "5366        24                Timp3         85               0.315426   \n",
       "2634        10                Timp3         64               0.368977   \n",
       "5114        23                Timp3        279               0.390183   \n",
       "6121        27                Timp3        243               0.419239   \n",
       "4610        21                Timp3        626               0.461392   \n",
       "7054        31                Timp3         13               0.474884   \n",
       "5869        26                Timp3        104               0.488879   \n",
       "2886        11                Timp3         93               0.509101   \n",
       "1404         5                Timp3         16               0.525170   \n",
       "3743        17                Timp3         11               0.557201   \n",
       "\n",
       "      median_spots_per_cell       std  \n",
       "7303                    4.0  0.122473  \n",
       "4358                    3.0  0.122473  \n",
       "6822                    3.0  0.122473  \n",
       "1655                    3.0  0.122473  \n",
       "2131                    7.0  0.122473  \n",
       "1178                    3.0  0.122473  \n",
       "3390                    3.0  0.122473  \n",
       "231                     3.0  0.122473  \n",
       "5366                    4.0  0.122473  \n",
       "2634                    4.0  0.122473  \n",
       "5114                    7.0  0.122473  \n",
       "6121                    6.0  0.122473  \n",
       "4610                   16.0  0.122473  \n",
       "7054                   18.0  0.122473  \n",
       "5869                   81.0  0.122473  \n",
       "2886                   75.0  0.122473  \n",
       "1404                  103.0  0.122473  \n",
       "3743                   13.0  0.122473  "
      ]
     },
     "execution_count": 26,
     "metadata": {},
     "output_type": "execute_result"
    }
   ],
   "source": [
    "filt_per_clust_gene_obs[filt_per_clust_gene_obs['target_molecule_name'].eq('Timp3')].sort_values('median_cluster_periph')"
   ]
  },
  {
   "cell_type": "code",
   "execution_count": 58,
   "metadata": {
    "collapsed": true
   },
   "outputs": [],
   "source": [
    "filt_per_clust_gene_obs.to_csv('../processed_data/20210201_filtered_per_gene_per_cluster_obs_periph.csv',index=False)"
   ]
  },
  {
   "cell_type": "code",
   "execution_count": 27,
   "metadata": {},
   "outputs": [
    {
     "data": {
      "image/png": "[encoded data removed]",
      "text/plain": [
       "<Figure size 432x288 with 1 Axes>"
      ]
     },
     "metadata": {},
     "output_type": "display_data"
    }
   ],
   "source": [
    "sns.scatterplot(\n",
    "    x = 'median_spots_per_cell',\n",
    "    y = 'median_cluster_periph',\n",
    "    alpha = 0.5,\n",
    "    data = filt_per_clust_gene_obs,\n",
    ")\n",
    "\n",
    "plt.show()\n",
    "plt.close()"
   ]
  },
  {
   "cell_type": "markdown",
   "metadata": {},
   "source": [
    "# Simulating different cell/gene compositions\n",
    "\n",
    "I think that the periphery metric is sensitive to the fraction of gene spots in a cell\n",
    "\n",
    "If a gene is 100% of the spots in a cell, then it will necessarily have a periphery score of 0.5\n",
    "\n",
    "If it is a single spot in a cell, however, then it is possible for it to range from 1/n all the way to 1\n",
    "\n",
    "In fact, there are hard limits on what range of periphery scores a gene can achieve in a cell based exclusively on the number of spots of that gene\n",
    "\n",
    "One thing to note before I go into this, I'm not normalizing the ranks correctly. A periphery score of 0 is not possible because I'm ranking the most peripheral spot to be \"1\" instead of \"0\"\n",
    "\n",
    "Ignoring that, here is a table of possible scores from number of gene spots, and then I'll try and generalize"
   ]
  },
  {
   "cell_type": "code",
   "execution_count": 45,
   "metadata": {},
   "outputs": [
    {
     "data": {
      "text/html": [
       "<div>\n",
       "<style scoped>\n",
       "    .dataframe tbody tr th:only-of-type {\n",
       "        vertical-align: middle;\n",
       "    }\n",
       "\n",
       "    .dataframe tbody tr th {\n",
       "        vertical-align: top;\n",
       "    }\n",
       "\n",
       "    .dataframe thead th {\n",
       "        text-align: right;\n",
       "    }\n",
       "</style>\n",
       "<table border=\"1\" class=\"dataframe\">\n",
       "  <thead>\n",
       "    <tr style=\"text-align: right;\">\n",
       "      <th></th>\n",
       "      <th>num_spots</th>\n",
       "      <th>min_score</th>\n",
       "      <th>max_score</th>\n",
       "    </tr>\n",
       "  </thead>\n",
       "  <tbody>\n",
       "    <tr>\n",
       "      <th>0</th>\n",
       "      <td>1</td>\n",
       "      <td>0.000</td>\n",
       "      <td>1.000</td>\n",
       "    </tr>\n",
       "    <tr>\n",
       "      <th>1</th>\n",
       "      <td>2</td>\n",
       "      <td>0.005</td>\n",
       "      <td>0.995</td>\n",
       "    </tr>\n",
       "    <tr>\n",
       "      <th>2</th>\n",
       "      <td>3</td>\n",
       "      <td>0.010</td>\n",
       "      <td>0.990</td>\n",
       "    </tr>\n",
       "    <tr>\n",
       "      <th>3</th>\n",
       "      <td>4</td>\n",
       "      <td>0.015</td>\n",
       "      <td>0.985</td>\n",
       "    </tr>\n",
       "  </tbody>\n",
       "</table>\n",
       "</div>"
      ],
      "text/plain": [
       "   num_spots  min_score  max_score\n",
       "0          1      0.000      1.000\n",
       "1          2      0.005      0.995\n",
       "2          3      0.010      0.990\n",
       "3          4      0.015      0.985"
      ]
     },
     "execution_count": 45,
     "metadata": {},
     "output_type": "execute_result"
    }
   ],
   "source": [
    "n = 100\n",
    "step = 1/n\n",
    "\n",
    "data = {\n",
    "    'num_spots':[1,2,3,4,],\n",
    "    'min_score':[0,(0+(0+step))/2, (0+(0+step)+(0+2*step))/3, (0+(0+step)+(0+2*step)+(0+3*step))/4],\n",
    "    'max_score':[1,(1+(1-step))/2, (1+(1-step)+(1-2*step))/3, (1+(1-step)+(1-2*step)+(1-3*step))/4],\n",
    "}\n",
    "\n",
    "pd.DataFrame(data)"
   ]
  },
  {
   "cell_type": "markdown",
   "metadata": {},
   "source": [
    "so it looks like there is a shrinking envelope of possible scores that shrinks by 1/n for each additional gene spot\n",
    "\n",
    "wait, but it has to level out, and I wasn't expecting it to decrease linearly"
   ]
  },
  {
   "cell_type": "code",
   "execution_count": 41,
   "metadata": {},
   "outputs": [
    {
     "data": {
      "text/plain": [
       "0.00040112314480545525"
      ]
     },
     "execution_count": 41,
     "metadata": {},
     "output_type": "execute_result"
    }
   ],
   "source": [
    "q90_df['normalized_rank'].min()"
   ]
  },
  {
   "cell_type": "code",
   "execution_count": 33,
   "metadata": {},
   "outputs": [
    {
     "data": {
      "image/png": "[encoded data removed]",
      "text/plain": [
       "<Figure size 576x576 with 1 Axes>"
      ]
     },
     "metadata": {},
     "output_type": "display_data"
    }
   ],
   "source": [
    "cell_id = '236544133250884027596792000693618583801'\n",
    "\n",
    "cell_spots = q90_df[q90_df['cell_id'].eq(cell_id)]\n",
    "\n",
    "plots = plot_utils.plot_spot_cells(cell_spots,cells_df)\n",
    "for fig,ax in plots:\n",
    "    plt.show()\n",
    "    plt.close()"
   ]
  },
  {
   "cell_type": "code",
   "execution_count": 34,
   "metadata": {},
   "outputs": [
    {
     "data": {
      "text/plain": [
       "Slc30a3     71\n",
       "Wipf3       62\n",
       "Camk2d      54\n",
       "Cdh13       53\n",
       "Trp53i11    49\n",
       "            ..\n",
       "Prss23       1\n",
       "Sulf1        1\n",
       "Tshz2        1\n",
       "Ptger3       1\n",
       "Ptprm        1\n",
       "Name: target_molecule_name, Length: 130, dtype: int64"
      ]
     },
     "execution_count": 34,
     "metadata": {},
     "output_type": "execute_result"
    }
   ],
   "source": [
    "cell_spots['target_molecule_name'].value_counts()"
   ]
  },
  {
   "cell_type": "code",
   "execution_count": 55,
   "metadata": {},
   "outputs": [
    {
     "data": {
      "image/png": "[encoded data removed]",
      "text/plain": [
       "<Figure size 432x288 with 1 Axes>"
      ]
     },
     "metadata": {},
     "output_type": "display_data"
    }
   ],
   "source": [
    "plot_df = cell_spots.groupby(['target_molecule_name','gene_spot_num'])['normalized_rank'].median().reset_index()\n",
    "\n",
    "sns.scatterplot(\n",
    "    x = 'gene_spot_num',\n",
    "    y = 'normalized_rank',\n",
    "    data = plot_df,\n",
    ")\n",
    "\n",
    "n = plot_df['gene_spot_num'].sum()\n",
    "step = 1/n\n",
    "max_gene_spots = plot_df['gene_spot_num'].max()\n",
    "\n",
    "xs = range(max_gene_spots)\n",
    "min_vs = [step*x for x in xs]\n",
    "max_vs = [1-step*x for x in xs]\n",
    "\n",
    "plt.plot(xs,min_vs,color='red',)\n",
    "plt.plot(xs,max_vs,color='red',)\n",
    "\n",
    "plt.title('Red bars show maximum and minimum possible values as a function of spots per gene')\n",
    "plt.xlabel('Spots per gene')\n",
    "plt.ylabel('Periphery score per gene')\n",
    "plt.show()\n",
    "plt.close()"
   ]
  },
  {
   "cell_type": "markdown",
   "metadata": {},
   "source": [
    "# Calculating the probability that each value is a median in a test case\n"
   ]
  },
  {
   "cell_type": "code",
   "execution_count": 11,
   "metadata": {},
   "outputs": [
    {
     "data": {
      "text/plain": [
       "6"
      ]
     },
     "execution_count": 11,
     "metadata": {},
     "output_type": "execute_result"
    }
   ],
   "source": [
    "round(6.5)"
   ]
  },
  {
   "cell_type": "code",
   "execution_count": 72,
   "metadata": {},
   "outputs": [
    {
     "name": "stdout",
     "output_type": "stream",
     "text": [
      "11 3\n",
      "0.49620000000000003 0.04984555999999999\n"
     ]
    }
   ],
   "source": [
    "n = 11\n",
    "k = 3\n",
    "print(n,k)\n",
    "its = 1000\n",
    "\n",
    "meds = []\n",
    "\n",
    "for i in range(its):\n",
    "    vals = np.random.choice(range(n),k,replace=False)/(n-1)\n",
    "    meds.append(np.median(vals))\n",
    "    \n",
    "u = np.mean(meds)\n",
    "v = np.var(meds)\n",
    "print(u,v)"
   ]
  },
  {
   "cell_type": "code",
   "execution_count": 60,
   "metadata": {},
   "outputs": [
    {
     "data": {
      "text/plain": [
       "0.55    114\n",
       "0.50    100\n",
       "0.35     90\n",
       "0.40     62\n",
       "0.45     61\n",
       "0.25     60\n",
       "0.65     59\n",
       "0.70     59\n",
       "0.75     59\n",
       "0.60     58\n",
       "0.65     48\n",
       "0.45     38\n",
       "0.30     32\n",
       "0.85     29\n",
       "0.60     29\n",
       "0.15     26\n",
       "0.80     23\n",
       "0.20     22\n",
       "0.30     19\n",
       "0.40     12\n",
       "Name: 0, dtype: int64"
      ]
     },
     "execution_count": 60,
     "metadata": {},
     "output_type": "execute_result"
    }
   ],
   "source": [
    "pd.DataFrame(meds)[0].value_counts()"
   ]
  },
  {
   "cell_type": "code",
   "execution_count": 62,
   "metadata": {},
   "outputs": [
    {
     "data": {
      "text/plain": [
       "array([ 0.5,  1. ,  1.5,  2. ,  2.5,  3. ,  3.5,  4. ,  4.5,  5. ,  5.5,\n",
       "        6. ,  6.5,  7. ,  7.5,  8. ,  8.5,  9. ,  9.5, 10. , 10.5, 11. ])"
      ]
     },
     "execution_count": 62,
     "metadata": {},
     "output_type": "execute_result"
    }
   ],
   "source": [
    "n = 11\n",
    "np.arange(0.5,n+0.5,0.5)"
   ]
  },
  {
   "cell_type": "code",
   "execution_count": 102,
   "metadata": {},
   "outputs": [
    {
     "name": "stdout",
     "output_type": "stream",
     "text": [
      "[None]\n",
      "[None]\n"
     ]
    }
   ],
   "source": [
    "import scipy.misc\n",
    "\n",
    "def calc_mean_var_odd_k(n,k):\n",
    "    possible_meds = np.arange(1,n+1)\n",
    "    num_ways = {}\n",
    "\n",
    "    for x in range(n):\n",
    "        num_flank_each_side = k // 2 # if k = 5, then _ _ x _ _ two flank each side\n",
    "        num_ways[x] = scipy.special.comb(x-1,num_flank_each_side)*scipy.special.comb(n-x,num_flank_each_side)\n",
    "\n",
    "    total_ways = scipy.special.comb(n,k)\n",
    "    probs = {((k-1)/(n-1)):(v/total_ways) for k,v in num_ways.items()}\n",
    "    expected_value = sum(k*v for k,v in probs.items())\n",
    "    var = sum(v*(k**2) for k,v in probs.items())-(expected_value**2)\n",
    "    return expected_value,var,probs\n",
    "\n",
    "    \n",
    "def calc_mean_var_even_k(n,k):\n",
    "    possible_meds = np.arange(0.5,n,0.5)\n",
    "    \n",
    "    \n",
    "    \n",
    "    expected_value = None\n",
    "    var = None\n",
    "    \n",
    "    probs = (possible_meds-0.5)/(n-1)\n",
    "    return expected_value,var,probs\n",
    "\n",
    "\n",
    "def calc_mean_var(n,k):\n",
    "    if k%2 == 1:\n",
    "        return calc_mean_var_odd_k(n,k)\n",
    "    else:\n",
    "        return calc_mean_var_even_k(n,k)\n",
    "        \n",
    "\n",
    "n = 11\n",
    "ks = [4]\n",
    "\n",
    "\n",
    "meds,vs,probs = zip(*[calc_mean_var(n,k) for k in ks])\n",
    "meds = np.array(meds)\n",
    "vs = np.array(vs)\n",
    "\n",
    "print(meds)\n",
    "print(vs)"
   ]
  },
  {
   "cell_type": "code",
   "execution_count": 34,
   "metadata": {},
   "outputs": [
    {
     "data": {
      "text/plain": [
       "495.0"
      ]
     },
     "execution_count": 34,
     "metadata": {},
     "output_type": "execute_result"
    }
   ],
   "source": [
    "scipy.special.comb(12, 4)"
   ]
  },
  {
   "cell_type": "code",
   "execution_count": 82,
   "metadata": {},
   "outputs": [
    {
     "data": {
      "text/plain": [
       "23"
      ]
     },
     "execution_count": 82,
     "metadata": {},
     "output_type": "execute_result"
    }
   ],
   "source": [
    "len(probs[0])"
   ]
  },
  {
   "cell_type": "code",
   "execution_count": 103,
   "metadata": {},
   "outputs": [
    {
     "data": {
      "text/plain": [
       "(array([0.  , 0.05, 0.1 , 0.15, 0.2 , 0.25, 0.3 , 0.35, 0.4 , 0.45, 0.5 ,\n",
       "        0.55, 0.6 , 0.65, 0.7 , 0.75, 0.8 , 0.85, 0.9 , 0.95, 1.  ]),)"
      ]
     },
     "execution_count": 103,
     "metadata": {},
     "output_type": "execute_result"
    }
   ],
   "source": [
    "probs"
   ]
  },
  {
   "cell_type": "code",
   "execution_count": 5,
   "metadata": {},
   "outputs": [
    {
     "data": {
      "text/plain": [
       "0.2323850795939849"
      ]
     },
     "execution_count": 5,
     "metadata": {},
     "output_type": "execute_result"
    }
   ],
   "source": []
  },
  {
   "cell_type": "code",
   "execution_count": 293,
   "metadata": {},
   "outputs": [
    {
     "data": {
      "image/png": "[encoded data removed]",
      "text/plain": [
       "<Figure size 432x288 with 1 Axes>"
      ]
     },
     "metadata": {},
     "output_type": "display_data"
    }
   ],
   "source": [
    "plt.plot(ks,meds-vs,color='r')\n",
    "plt.plot(ks,meds+vs,color='r')\n",
    "plt.plot(ks,meds,color='b')\n",
    "plt.title('Variance sharply decreases with increasing k')\n",
    "plt.xlabel('k')\n",
    "plt.ylabel('Median rank')\n",
    "plt.show()\n",
    "plt.close()"
   ]
  },
  {
   "cell_type": "code",
   "execution_count": 236,
   "metadata": {},
   "outputs": [
    {
     "data": {
      "text/plain": [
       "0.0369"
      ]
     },
     "execution_count": 236,
     "metadata": {},
     "output_type": "execute_result"
    }
   ],
   "source": [
    "(np.abs(meds-0.2631578947368421) < 0.001).sum()/10000"
   ]
  },
  {
   "cell_type": "code",
   "execution_count": 244,
   "metadata": {},
   "outputs": [
    {
     "data": {
      "text/plain": [
       "0.105263    0.0007\n",
       "0.157895    0.0054\n",
       "0.210526    0.0166\n",
       "0.263158    0.0369\n",
       "0.315789    0.0713\n",
       "0.368421    0.0989\n",
       "0.421053    0.1305\n",
       "0.473684    0.1461\n",
       "0.526316    0.1454\n",
       "0.578947    0.1218\n",
       "0.631579    0.1025\n",
       "0.684211    0.0616\n",
       "0.736842    0.0372\n",
       "0.789474    0.0182\n",
       "0.842105    0.0055\n",
       "0.894737    0.0014\n",
       "Name: 0, dtype: float64"
      ]
     },
     "execution_count": 244,
     "metadata": {},
     "output_type": "execute_result"
    }
   ],
   "source": [
    "pd.DataFrame(meds)[0].value_counts().sort_index()/10000"
   ]
  },
  {
   "cell_type": "code",
   "execution_count": 258,
   "metadata": {},
   "outputs": [
    {
     "data": {
      "text/plain": [
       "0.8947368421052632"
      ]
     },
     "execution_count": 258,
     "metadata": {},
     "output_type": "execute_result"
    }
   ],
   "source": [
    "np.median(vals, axis=0).max()"
   ]
  },
  {
   "cell_type": "code",
   "execution_count": 260,
   "metadata": {},
   "outputs": [
    {
     "data": {
      "text/plain": [
       "13"
      ]
     },
     "execution_count": 260,
     "metadata": {},
     "output_type": "execute_result"
    }
   ],
   "source": [
    "k"
   ]
  },
  {
   "cell_type": "code",
   "execution_count": 259,
   "metadata": {},
   "outputs": [
    {
     "data": {
      "text/plain": [
       "array([0.        , 0.05263158, 0.10526316, 0.15789474, 0.21052632,\n",
       "       0.26315789, 0.31578947, 0.36842105, 0.42105263, 0.47368421,\n",
       "       0.52631579, 0.57894737, 0.63157895, 0.68421053, 0.73684211,\n",
       "       0.78947368, 0.84210526, 0.89473684, 0.94736842, 1.        ])"
      ]
     },
     "execution_count": 259,
     "metadata": {},
     "output_type": "execute_result"
    }
   ],
   "source": [
    "np.unique(vals)"
   ]
  },
  {
   "cell_type": "code",
   "execution_count": 252,
   "metadata": {},
   "outputs": [
    {
     "data": {
      "text/plain": [
       "0       0.684211\n",
       "1       0.421053\n",
       "2       0.631579\n",
       "3       0.368421\n",
       "4       0.421053\n",
       "          ...   \n",
       "9995    0.578947\n",
       "9996    0.631579\n",
       "9997    0.473684\n",
       "9998    0.631579\n",
       "9999    0.421053\n",
       "Length: 10000, dtype: float64"
      ]
     },
     "execution_count": 252,
     "metadata": {},
     "output_type": "execute_result"
    }
   ],
   "source": [
    "pd.DataFrame(vals).median()"
   ]
  },
  {
   "cell_type": "code",
   "execution_count": 245,
   "metadata": {},
   "outputs": [
    {
     "data": {
      "text/plain": [
       "{0.0: 0.0,\n",
       " 0.05263157894736842: 0.0,\n",
       " 0.10526315789473684: 0.0,\n",
       " 0.15789473684210525: 0.0,\n",
       " 0.21052631578947367: 0.0,\n",
       " 0.2631578947368421: 0.0,\n",
       " 0.3157894736842105: 0.02213622291021672,\n",
       " 0.3684210526315789: 0.08343653250773994,\n",
       " 0.42105263157894735: 0.16687306501547988,\n",
       " 0.47368421052631576: 0.22755417956656346,\n",
       " 0.5263157894736842: 0.22755417956656346,\n",
       " 0.5789473684210527: 0.16687306501547988,\n",
       " 0.631578947368421: 0.08343653250773994,\n",
       " 0.6842105263157895: 0.02213622291021672,\n",
       " 0.7368421052631579: 0.0,\n",
       " 0.7894736842105263: 0.0,\n",
       " 0.8421052631578947: 0.0,\n",
       " 0.8947368421052632: 0.0,\n",
       " 0.9473684210526315: 0.0,\n",
       " 1.0: 0.0}"
      ]
     },
     "execution_count": 245,
     "metadata": {},
     "output_type": "execute_result"
    }
   ],
   "source": [
    "probs"
   ]
  },
  {
   "cell_type": "code",
   "execution_count": 194,
   "metadata": {},
   "outputs": [
    {
     "data": {
      "text/plain": [
       "array([0.        , 0.05263158, 0.10526316, 0.15789474, 0.21052632,\n",
       "       0.26315789, 0.31578947, 0.36842105, 0.42105263, 0.47368421,\n",
       "       0.52631579, 0.57894737, 0.63157895, 0.68421053, 0.73684211,\n",
       "       0.78947368, 0.84210526, 0.89473684, 0.94736842, 1.        ])"
      ]
     },
     "execution_count": 194,
     "metadata": {},
     "output_type": "execute_result"
    }
   ],
   "source": [
    "np.arange(n)/(n-1)"
   ]
  },
  {
   "cell_type": "code",
   "execution_count": 192,
   "metadata": {},
   "outputs": [
    {
     "data": {
      "text/plain": [
       "array([[0.63157895],\n",
       "       [0.05263158],\n",
       "       [0.10526316],\n",
       "       [0.78947368],\n",
       "       [0.84210526],\n",
       "       [0.42105263],\n",
       "       [0.63157895],\n",
       "       [0.73684211],\n",
       "       [0.47368421],\n",
       "       [0.89473684],\n",
       "       [0.78947368],\n",
       "       [0.15789474],\n",
       "       [0.89473684]])"
      ]
     },
     "execution_count": 192,
     "metadata": {},
     "output_type": "execute_result"
    }
   ],
   "source": [
    "np.random.choice(range(n),(k,1))/(n-1)\n"
   ]
  },
  {
   "cell_type": "code",
   "execution_count": 15,
   "metadata": {},
   "outputs": [
    {
     "data": {
      "text/plain": [
       "2"
      ]
     },
     "execution_count": 15,
     "metadata": {},
     "output_type": "execute_result"
    }
   ],
   "source": [
    "k = 5\n"
   ]
  }
 ],
 "metadata": {
  "kernelspec": {
   "display_name": "Python 3",
   "language": "python",
   "name": "python3"
  },
  "language_info": {
   "codemirror_mode": {
    "name": "ipython",
    "version": 3
   },
   "file_extension": ".py",
   "mimetype": "text/x-python",
   "name": "python",
   "nbconvert_exporter": "python",
   "pygments_lexer": "ipython3",
   "version": "3.6.1"
  }
 },
 "nbformat": 4,
 "nbformat_minor": 2
}
