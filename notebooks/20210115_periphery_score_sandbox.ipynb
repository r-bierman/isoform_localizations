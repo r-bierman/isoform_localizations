{
 "cells": [
  {
   "cell_type": "code",
   "execution_count": 70,
   "metadata": {
    "collapsed": true
   },
   "outputs": [],
   "source": [
    "import pandas as pd\n",
    "import numpy as np\n",
    "import glob\n",
    "import sys\n",
    "import os\n",
    "\n",
    "import matplotlib.pyplot as plt\n",
    "import seaborn as sns\n",
    "\n",
    "import importlib\n",
    "\n",
    "root_dir = '/oak/stanford/groups/horence/rob/isoform_localizations/'\n",
    "\n",
    "sys.path.append(os.path.join(root_dir,'scripts'))\n",
    "import spatial_utils\n",
    "import plot_utils"
   ]
  },
  {
   "cell_type": "code",
   "execution_count": 2,
   "metadata": {
    "collapsed": true
   },
   "outputs": [],
   "source": [
    "spots = pd.read_csv('../processed_data/all_passing_rna_spots.csv')\n",
    "cells = pd.read_csv('../processed_data/segmented_cell_shapes.csv')"
   ]
  },
  {
   "cell_type": "code",
   "execution_count": 74,
   "metadata": {},
   "outputs": [
    {
     "data": {
      "text/plain": [
       "(362961, 5)"
      ]
     },
     "execution_count": 74,
     "metadata": {},
     "output_type": "execute_result"
    }
   ],
   "source": [
    "cells.shape"
   ]
  },
  {
   "cell_type": "code",
   "execution_count": 75,
   "metadata": {},
   "outputs": [
    {
     "data": {
      "text/plain": [
       "699"
      ]
     },
     "execution_count": 75,
     "metadata": {},
     "output_type": "execute_result"
    }
   ],
   "source": [
    "sub_cells = cells.sample(1000)\n",
    "sub_spots = spots[spots['cell_id'].isin(sub_cells['cell_id'])]\n",
    "sub_cells = cells[cells['cell_id'].isin(sub_spots['cell_id'])]\n",
    "sub_cells['cell_id'].unique().size"
   ]
  },
  {
   "cell_type": "code",
   "execution_count": 76,
   "metadata": {},
   "outputs": [
    {
     "data": {
      "text/html": [
       "<div>\n",
       "<style scoped>\n",
       "    .dataframe tbody tr th:only-of-type {\n",
       "        vertical-align: middle;\n",
       "    }\n",
       "\n",
       "    .dataframe tbody tr th {\n",
       "        vertical-align: top;\n",
       "    }\n",
       "\n",
       "    .dataframe thead th {\n",
       "        text-align: right;\n",
       "    }\n",
       "</style>\n",
       "<table border=\"1\" class=\"dataframe\">\n",
       "  <thead>\n",
       "    <tr style=\"text-align: right;\">\n",
       "      <th></th>\n",
       "      <th>cell_id</th>\n",
       "      <th>target_molecule_name</th>\n",
       "      <th>num_cell_spots</th>\n",
       "      <th>num_gene_spots</th>\n",
       "      <th>metric_name</th>\n",
       "      <th>raw_metric</th>\n",
       "      <th>cell_zscore</th>\n",
       "      <th>gene_median_cell_zscore</th>\n",
       "      <th>gene_var_cell_zscore</th>\n",
       "    </tr>\n",
       "  </thead>\n",
       "  <tbody>\n",
       "    <tr>\n",
       "      <th>0</th>\n",
       "      <td>10021303523257862278464342827804406136</td>\n",
       "      <td>5730522E02Rik</td>\n",
       "      <td>136</td>\n",
       "      <td>1</td>\n",
       "      <td>periphery</td>\n",
       "      <td>2.679732</td>\n",
       "      <td>2.282739</td>\n",
       "      <td>0.864078</td>\n",
       "      <td>2.093049</td>\n",
       "    </tr>\n",
       "    <tr>\n",
       "      <th>1</th>\n",
       "      <td>10021303523257862278464342827804406136</td>\n",
       "      <td>Acta2</td>\n",
       "      <td>136</td>\n",
       "      <td>1</td>\n",
       "      <td>periphery</td>\n",
       "      <td>0.566504</td>\n",
       "      <td>-1.049578</td>\n",
       "      <td>-0.196847</td>\n",
       "      <td>1.478511</td>\n",
       "    </tr>\n",
       "    <tr>\n",
       "      <th>2</th>\n",
       "      <td>10021303523257862278464342827804406136</td>\n",
       "      <td>Adamts2</td>\n",
       "      <td>136</td>\n",
       "      <td>1</td>\n",
       "      <td>periphery</td>\n",
       "      <td>1.117913</td>\n",
       "      <td>-0.180069</td>\n",
       "      <td>0.240956</td>\n",
       "      <td>1.458492</td>\n",
       "    </tr>\n",
       "    <tr>\n",
       "      <th>3</th>\n",
       "      <td>10021303523257862278464342827804406136</td>\n",
       "      <td>Aqp4</td>\n",
       "      <td>136</td>\n",
       "      <td>4</td>\n",
       "      <td>periphery</td>\n",
       "      <td>1.549578</td>\n",
       "      <td>0.500617</td>\n",
       "      <td>-0.367254</td>\n",
       "      <td>1.909553</td>\n",
       "    </tr>\n",
       "    <tr>\n",
       "      <th>4</th>\n",
       "      <td>10021303523257862278464342827804406136</td>\n",
       "      <td>Bmpr1b</td>\n",
       "      <td>136</td>\n",
       "      <td>3</td>\n",
       "      <td>periphery</td>\n",
       "      <td>2.119518</td>\n",
       "      <td>1.399347</td>\n",
       "      <td>0.096382</td>\n",
       "      <td>1.631980</td>\n",
       "    </tr>\n",
       "  </tbody>\n",
       "</table>\n",
       "</div>"
      ],
      "text/plain": [
       "                                  cell_id target_molecule_name  \\\n",
       "0  10021303523257862278464342827804406136        5730522E02Rik   \n",
       "1  10021303523257862278464342827804406136                Acta2   \n",
       "2  10021303523257862278464342827804406136              Adamts2   \n",
       "3  10021303523257862278464342827804406136                 Aqp4   \n",
       "4  10021303523257862278464342827804406136               Bmpr1b   \n",
       "\n",
       "   num_cell_spots  num_gene_spots metric_name  raw_metric  cell_zscore  \\\n",
       "0             136               1   periphery    2.679732     2.282739   \n",
       "1             136               1   periphery    0.566504    -1.049578   \n",
       "2             136               1   periphery    1.117913    -0.180069   \n",
       "3             136               4   periphery    1.549578     0.500617   \n",
       "4             136               3   periphery    2.119518     1.399347   \n",
       "\n",
       "   gene_median_cell_zscore  gene_var_cell_zscore  \n",
       "0                 0.864078              2.093049  \n",
       "1                -0.196847              1.478511  \n",
       "2                 0.240956              1.458492  \n",
       "3                -0.367254              1.909553  \n",
       "4                 0.096382              1.631980  "
      ]
     },
     "execution_count": 76,
     "metadata": {},
     "output_type": "execute_result"
    }
   ],
   "source": [
    "importlib.reload(spatial_utils)\n",
    "x = spatial_utils.spatial_metric_periphery(sub_spots,sub_cells)\n",
    "x.head()"
   ]
  },
  {
   "cell_type": "code",
   "execution_count": 80,
   "metadata": {},
   "outputs": [
    {
     "data": {
      "image/png": "[encoded data removed]",
      "text/plain": [
       "<Figure size 576x576 with 1 Axes>"
      ]
     },
     "metadata": {},
     "output_type": "display_data"
    }
   ],
   "source": [
    "\n",
    "\n",
    "cell_id = '10021303523257862278464342827804406136'\n",
    "spot_colors = {\n",
    "    '5730522E02Rik':'r',\n",
    "    'Acta2':'b',\n",
    "    'Adamts2':'g',\n",
    "}\n",
    "\n",
    "plot_cells = sub_cells[sub_cells['cell_id'].eq(cell_id)]\n",
    "plot_spots = sub_spots[sub_spots['cell_id'].eq(cell_id)]\n",
    "plot_utils.plot_spot_cells(plot_spots,plot_cells,spot_colors)"
   ]
  }
 ],
 "metadata": {
  "kernelspec": {
   "display_name": "Python 3",
   "language": "python",
   "name": "python3"
  },
  "language_info": {
   "codemirror_mode": {
    "name": "ipython",
    "version": 3
   },
   "file_extension": ".py",
   "mimetype": "text/x-python",
   "name": "python",
   "nbconvert_exporter": "python",
   "pygments_lexer": "ipython3",
   "version": "3.6.1"
  }
 },
 "nbformat": 4,
 "nbformat_minor": 2
}
