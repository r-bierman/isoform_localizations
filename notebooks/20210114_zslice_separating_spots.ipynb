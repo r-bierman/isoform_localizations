{
 "cells": [
  {
   "cell_type": "code",
   "execution_count": 2,
   "metadata": {
    "collapsed": true
   },
   "outputs": [],
   "source": [
    "import pandas as pd\n",
    "import numpy as np"
   ]
  },
  {
   "cell_type": "code",
   "execution_count": 3,
   "metadata": {},
   "outputs": [
    {
     "data": {
      "text/html": [
       "<div>\n",
       "<style scoped>\n",
       "    .dataframe tbody tr th:only-of-type {\n",
       "        vertical-align: middle;\n",
       "    }\n",
       "\n",
       "    .dataframe tbody tr th {\n",
       "        vertical-align: top;\n",
       "    }\n",
       "\n",
       "    .dataframe thead th {\n",
       "        text-align: right;\n",
       "    }\n",
       "</style>\n",
       "<table border=\"1\" class=\"dataframe\">\n",
       "  <thead>\n",
       "    <tr style=\"text-align: right;\">\n",
       "      <th></th>\n",
       "      <th>global_x</th>\n",
       "      <th>global_y</th>\n",
       "      <th>global_z</th>\n",
       "      <th>target_molecule_name</th>\n",
       "      <th>num_assigned_cells</th>\n",
       "      <th>cell_id</th>\n",
       "      <th>sample</th>\n",
       "    </tr>\n",
       "  </thead>\n",
       "  <tbody>\n",
       "    <tr>\n",
       "      <th>0</th>\n",
       "      <td>-4237.7397</td>\n",
       "      <td>1681.8490</td>\n",
       "      <td>0.0</td>\n",
       "      <td>Acta2</td>\n",
       "      <td>1</td>\n",
       "      <td>217951229059897556843731256135790480948</td>\n",
       "      <td>mouse1sample2</td>\n",
       "    </tr>\n",
       "    <tr>\n",
       "      <th>1</th>\n",
       "      <td>-4183.0010</td>\n",
       "      <td>1688.5905</td>\n",
       "      <td>0.0</td>\n",
       "      <td>Acta2</td>\n",
       "      <td>1</td>\n",
       "      <td>281878279612082858224382179441472205807</td>\n",
       "      <td>mouse1sample2</td>\n",
       "    </tr>\n",
       "    <tr>\n",
       "      <th>2</th>\n",
       "      <td>-4215.4233</td>\n",
       "      <td>1699.2443</td>\n",
       "      <td>0.0</td>\n",
       "      <td>Acta2</td>\n",
       "      <td>1</td>\n",
       "      <td>271699149458331512543397347819513343392</td>\n",
       "      <td>mouse1sample2</td>\n",
       "    </tr>\n",
       "    <tr>\n",
       "      <th>3</th>\n",
       "      <td>-4207.3945</td>\n",
       "      <td>1706.8620</td>\n",
       "      <td>0.0</td>\n",
       "      <td>Acta2</td>\n",
       "      <td>1</td>\n",
       "      <td>271699149458331512543397347819513343392</td>\n",
       "      <td>mouse1sample2</td>\n",
       "    </tr>\n",
       "    <tr>\n",
       "      <th>4</th>\n",
       "      <td>-4206.7200</td>\n",
       "      <td>1711.7010</td>\n",
       "      <td>0.0</td>\n",
       "      <td>Acta2</td>\n",
       "      <td>1</td>\n",
       "      <td>271699149458331512543397347819513343392</td>\n",
       "      <td>mouse1sample2</td>\n",
       "    </tr>\n",
       "  </tbody>\n",
       "</table>\n",
       "</div>"
      ],
      "text/plain": [
       "    global_x   global_y  global_z target_molecule_name  num_assigned_cells  \\\n",
       "0 -4237.7397  1681.8490       0.0                Acta2                   1   \n",
       "1 -4183.0010  1688.5905       0.0                Acta2                   1   \n",
       "2 -4215.4233  1699.2443       0.0                Acta2                   1   \n",
       "3 -4207.3945  1706.8620       0.0                Acta2                   1   \n",
       "4 -4206.7200  1711.7010       0.0                Acta2                   1   \n",
       "\n",
       "                                   cell_id         sample  \n",
       "0  217951229059897556843731256135790480948  mouse1sample2  \n",
       "1  281878279612082858224382179441472205807  mouse1sample2  \n",
       "2  271699149458331512543397347819513343392  mouse1sample2  \n",
       "3  271699149458331512543397347819513343392  mouse1sample2  \n",
       "4  271699149458331512543397347819513343392  mouse1sample2  "
      ]
     },
     "execution_count": 3,
     "metadata": {},
     "output_type": "execute_result"
    }
   ],
   "source": [
    "spots = pd.read_csv('../processed_data/all_passing_rna_spots.csv')\n",
    "spots.head()"
   ]
  },
  {
   "cell_type": "code",
   "execution_count": 4,
   "metadata": {},
   "outputs": [
    {
     "data": {
      "text/plain": [
       "(75825684, 7)"
      ]
     },
     "execution_count": 4,
     "metadata": {},
     "output_type": "execute_result"
    }
   ],
   "source": [
    "spots.shape"
   ]
  },
  {
   "cell_type": "code",
   "execution_count": 5,
   "metadata": {},
   "outputs": [
    {
     "data": {
      "text/plain": [
       "4.5    13045449\n",
       "6.0    12799824\n",
       "3.0    12179107\n",
       "7.5    11528662\n",
       "1.5    10439816\n",
       "9.0     9386319\n",
       "0.0     6446507\n",
       "Name: global_z, dtype: int64"
      ]
     },
     "execution_count": 5,
     "metadata": {},
     "output_type": "execute_result"
    }
   ],
   "source": [
    "spots['global_z'].value_counts()"
   ]
  },
  {
   "cell_type": "code",
   "execution_count": 8,
   "metadata": {},
   "outputs": [
    {
     "data": {
      "text/plain": [
       "sample         global_z\n",
       "mouse1sample1  4.5         829705\n",
       "               6.0         813036\n",
       "               3.0         776646\n",
       "               7.5         731806\n",
       "               1.5         655279\n",
       "                            ...  \n",
       "mouse2sample5  3.0         173367\n",
       "               7.5         166766\n",
       "               1.5         163328\n",
       "               9.0         129313\n",
       "               0.0         103290\n",
       "Name: global_z, Length: 77, dtype: int64"
      ]
     },
     "execution_count": 8,
     "metadata": {},
     "output_type": "execute_result"
    }
   ],
   "source": [
    "slices_per_sample = spots.groupby('sample')['global_z'].value_counts()\n",
    "slices_per_sample"
   ]
  },
  {
   "cell_type": "code",
   "execution_count": 11,
   "metadata": {},
   "outputs": [
    {
     "data": {
      "text/html": [
       "<div>\n",
       "<style scoped>\n",
       "    .dataframe tbody tr th:only-of-type {\n",
       "        vertical-align: middle;\n",
       "    }\n",
       "\n",
       "    .dataframe tbody tr th {\n",
       "        vertical-align: top;\n",
       "    }\n",
       "\n",
       "    .dataframe thead th {\n",
       "        text-align: right;\n",
       "    }\n",
       "</style>\n",
       "<table border=\"1\" class=\"dataframe\">\n",
       "  <thead>\n",
       "    <tr style=\"text-align: right;\">\n",
       "      <th>global_z</th>\n",
       "      <th>0.0</th>\n",
       "      <th>1.5</th>\n",
       "      <th>3.0</th>\n",
       "      <th>4.5</th>\n",
       "      <th>6.0</th>\n",
       "      <th>7.5</th>\n",
       "      <th>9.0</th>\n",
       "    </tr>\n",
       "    <tr>\n",
       "      <th>sample</th>\n",
       "      <th></th>\n",
       "      <th></th>\n",
       "      <th></th>\n",
       "      <th></th>\n",
       "      <th></th>\n",
       "      <th></th>\n",
       "      <th></th>\n",
       "    </tr>\n",
       "  </thead>\n",
       "  <tbody>\n",
       "    <tr>\n",
       "      <th>mouse1sample1</th>\n",
       "      <td>381300</td>\n",
       "      <td>655279</td>\n",
       "      <td>776646</td>\n",
       "      <td>829705</td>\n",
       "      <td>813036</td>\n",
       "      <td>731806</td>\n",
       "      <td>585626</td>\n",
       "    </tr>\n",
       "    <tr>\n",
       "      <th>mouse1sample2</th>\n",
       "      <td>625595</td>\n",
       "      <td>1274400</td>\n",
       "      <td>1547502</td>\n",
       "      <td>1732465</td>\n",
       "      <td>1802890</td>\n",
       "      <td>1741853</td>\n",
       "      <td>1517291</td>\n",
       "    </tr>\n",
       "    <tr>\n",
       "      <th>mouse1sample3</th>\n",
       "      <td>616709</td>\n",
       "      <td>954214</td>\n",
       "      <td>1112673</td>\n",
       "      <td>1171630</td>\n",
       "      <td>1104508</td>\n",
       "      <td>934869</td>\n",
       "      <td>706585</td>\n",
       "    </tr>\n",
       "    <tr>\n",
       "      <th>mouse1sample4</th>\n",
       "      <td>1011626</td>\n",
       "      <td>1451498</td>\n",
       "      <td>1707467</td>\n",
       "      <td>1874184</td>\n",
       "      <td>1890967</td>\n",
       "      <td>1738106</td>\n",
       "      <td>1455875</td>\n",
       "    </tr>\n",
       "    <tr>\n",
       "      <th>mouse1sample5</th>\n",
       "      <td>888931</td>\n",
       "      <td>1390377</td>\n",
       "      <td>1654389</td>\n",
       "      <td>1816234</td>\n",
       "      <td>1840941</td>\n",
       "      <td>1730257</td>\n",
       "      <td>1511032</td>\n",
       "    </tr>\n",
       "    <tr>\n",
       "      <th>mouse1sample6</th>\n",
       "      <td>661010</td>\n",
       "      <td>1006483</td>\n",
       "      <td>1124278</td>\n",
       "      <td>1140972</td>\n",
       "      <td>1008496</td>\n",
       "      <td>784476</td>\n",
       "      <td>542865</td>\n",
       "    </tr>\n",
       "    <tr>\n",
       "      <th>mouse2sample1</th>\n",
       "      <td>490806</td>\n",
       "      <td>729843</td>\n",
       "      <td>853171</td>\n",
       "      <td>922888</td>\n",
       "      <td>908630</td>\n",
       "      <td>804757</td>\n",
       "      <td>630930</td>\n",
       "    </tr>\n",
       "    <tr>\n",
       "      <th>mouse2sample2</th>\n",
       "      <td>652104</td>\n",
       "      <td>1160013</td>\n",
       "      <td>1325460</td>\n",
       "      <td>1376648</td>\n",
       "      <td>1309239</td>\n",
       "      <td>1143634</td>\n",
       "      <td>877041</td>\n",
       "    </tr>\n",
       "    <tr>\n",
       "      <th>mouse2sample3</th>\n",
       "      <td>298362</td>\n",
       "      <td>623419</td>\n",
       "      <td>728481</td>\n",
       "      <td>771978</td>\n",
       "      <td>746582</td>\n",
       "      <td>660809</td>\n",
       "      <td>510305</td>\n",
       "    </tr>\n",
       "    <tr>\n",
       "      <th>mouse2sample4</th>\n",
       "      <td>716774</td>\n",
       "      <td>1030962</td>\n",
       "      <td>1175673</td>\n",
       "      <td>1228133</td>\n",
       "      <td>1191498</td>\n",
       "      <td>1091329</td>\n",
       "      <td>919456</td>\n",
       "    </tr>\n",
       "    <tr>\n",
       "      <th>mouse2sample5</th>\n",
       "      <td>103290</td>\n",
       "      <td>163328</td>\n",
       "      <td>173367</td>\n",
       "      <td>180612</td>\n",
       "      <td>183037</td>\n",
       "      <td>166766</td>\n",
       "      <td>129313</td>\n",
       "    </tr>\n",
       "  </tbody>\n",
       "</table>\n",
       "</div>"
      ],
      "text/plain": [
       "global_z           0.0      1.5      3.0      4.5      6.0      7.5      9.0\n",
       "sample                                                                      \n",
       "mouse1sample1   381300   655279   776646   829705   813036   731806   585626\n",
       "mouse1sample2   625595  1274400  1547502  1732465  1802890  1741853  1517291\n",
       "mouse1sample3   616709   954214  1112673  1171630  1104508   934869   706585\n",
       "mouse1sample4  1011626  1451498  1707467  1874184  1890967  1738106  1455875\n",
       "mouse1sample5   888931  1390377  1654389  1816234  1840941  1730257  1511032\n",
       "mouse1sample6   661010  1006483  1124278  1140972  1008496   784476   542865\n",
       "mouse2sample1   490806   729843   853171   922888   908630   804757   630930\n",
       "mouse2sample2   652104  1160013  1325460  1376648  1309239  1143634   877041\n",
       "mouse2sample3   298362   623419   728481   771978   746582   660809   510305\n",
       "mouse2sample4   716774  1030962  1175673  1228133  1191498  1091329   919456\n",
       "mouse2sample5   103290   163328   173367   180612   183037   166766   129313"
      ]
     },
     "execution_count": 11,
     "metadata": {},
     "output_type": "execute_result"
    }
   ],
   "source": [
    "x = slices_per_sample.unstack()\n",
    "x"
   ]
  },
  {
   "cell_type": "code",
   "execution_count": 16,
   "metadata": {},
   "outputs": [
    {
     "data": {
      "text/plain": [
       "0.05462284640609805"
      ]
     },
     "execution_count": 16,
     "metadata": {},
     "output_type": "execute_result"
    }
   ],
   "source": [
    "(x/x.max().max()).min().min()"
   ]
  },
  {
   "cell_type": "code",
   "execution_count": 10,
   "metadata": {
    "collapsed": true
   },
   "outputs": [],
   "source": [
    "slices_per_sample.unstack().to_csv('../processed_data/spots_per_sample_per_slice.csv')"
   ]
  },
  {
   "cell_type": "code",
   "execution_count": 19,
   "metadata": {},
   "outputs": [
    {
     "data": {
      "text/plain": [
       "sample\n",
       "mouse1sample1    17976\n",
       "mouse1sample2    27353\n",
       "mouse1sample3    23117\n",
       "mouse1sample4    32962\n",
       "mouse1sample5    31046\n",
       "mouse1sample6    24423\n",
       "mouse2sample1    13517\n",
       "mouse2sample2    21655\n",
       "mouse2sample3    18424\n",
       "mouse2sample4    19322\n",
       "mouse2sample5     8154\n",
       "Name: cell_id, dtype: int64"
      ]
     },
     "execution_count": 19,
     "metadata": {},
     "output_type": "execute_result"
    }
   ],
   "source": [
    "q = spots.groupby(['sample'])['cell_id'].unique().apply(len)\n",
    "q"
   ]
  },
  {
   "cell_type": "code",
   "execution_count": 21,
   "metadata": {},
   "outputs": [
    {
     "data": {
      "text/plain": [
       "(11,)"
      ]
     },
     "execution_count": 21,
     "metadata": {},
     "output_type": "execute_result"
    }
   ],
   "source": [
    "q.shape"
   ]
  },
  {
   "cell_type": "code",
   "execution_count": 22,
   "metadata": {},
   "outputs": [
    {
     "data": {
      "text/plain": [
       "(11, 7)"
      ]
     },
     "execution_count": 22,
     "metadata": {},
     "output_type": "execute_result"
    }
   ],
   "source": [
    "x.shape"
   ]
  },
  {
   "cell_type": "code",
   "execution_count": 23,
   "metadata": {},
   "outputs": [
    {
     "data": {
      "text/plain": [
       "sample         global_z\n",
       "mouse1sample1  0.0         381300\n",
       "               1.5         655279\n",
       "               3.0         776646\n",
       "               4.5         829705\n",
       "               6.0         813036\n",
       "                            ...  \n",
       "mouse2sample5  3.0         173367\n",
       "               4.5         180612\n",
       "               6.0         183037\n",
       "               7.5         166766\n",
       "               9.0         129313\n",
       "Length: 77, dtype: int64"
      ]
     },
     "execution_count": 23,
     "metadata": {},
     "output_type": "execute_result"
    }
   ],
   "source": [
    "q = spots.groupby(['sample','global_z']).size()\n",
    "q"
   ]
  },
  {
   "cell_type": "code",
   "execution_count": 26,
   "metadata": {},
   "outputs": [
    {
     "data": {
      "text/html": [
       "<div>\n",
       "<style scoped>\n",
       "    .dataframe tbody tr th:only-of-type {\n",
       "        vertical-align: middle;\n",
       "    }\n",
       "\n",
       "    .dataframe tbody tr th {\n",
       "        vertical-align: top;\n",
       "    }\n",
       "\n",
       "    .dataframe thead th {\n",
       "        text-align: right;\n",
       "    }\n",
       "</style>\n",
       "<table border=\"1\" class=\"dataframe\">\n",
       "  <thead>\n",
       "    <tr style=\"text-align: right;\">\n",
       "      <th></th>\n",
       "      <th>sample</th>\n",
       "      <th>global_z</th>\n",
       "      <th>0</th>\n",
       "    </tr>\n",
       "  </thead>\n",
       "  <tbody>\n",
       "    <tr>\n",
       "      <th>0</th>\n",
       "      <td>mouse1sample1</td>\n",
       "      <td>0.0</td>\n",
       "      <td>381300</td>\n",
       "    </tr>\n",
       "    <tr>\n",
       "      <th>1</th>\n",
       "      <td>mouse1sample1</td>\n",
       "      <td>1.5</td>\n",
       "      <td>655279</td>\n",
       "    </tr>\n",
       "    <tr>\n",
       "      <th>2</th>\n",
       "      <td>mouse1sample1</td>\n",
       "      <td>3.0</td>\n",
       "      <td>776646</td>\n",
       "    </tr>\n",
       "    <tr>\n",
       "      <th>3</th>\n",
       "      <td>mouse1sample1</td>\n",
       "      <td>4.5</td>\n",
       "      <td>829705</td>\n",
       "    </tr>\n",
       "    <tr>\n",
       "      <th>4</th>\n",
       "      <td>mouse1sample1</td>\n",
       "      <td>6.0</td>\n",
       "      <td>813036</td>\n",
       "    </tr>\n",
       "    <tr>\n",
       "      <th>...</th>\n",
       "      <td>...</td>\n",
       "      <td>...</td>\n",
       "      <td>...</td>\n",
       "    </tr>\n",
       "    <tr>\n",
       "      <th>72</th>\n",
       "      <td>mouse2sample5</td>\n",
       "      <td>3.0</td>\n",
       "      <td>173367</td>\n",
       "    </tr>\n",
       "    <tr>\n",
       "      <th>73</th>\n",
       "      <td>mouse2sample5</td>\n",
       "      <td>4.5</td>\n",
       "      <td>180612</td>\n",
       "    </tr>\n",
       "    <tr>\n",
       "      <th>74</th>\n",
       "      <td>mouse2sample5</td>\n",
       "      <td>6.0</td>\n",
       "      <td>183037</td>\n",
       "    </tr>\n",
       "    <tr>\n",
       "      <th>75</th>\n",
       "      <td>mouse2sample5</td>\n",
       "      <td>7.5</td>\n",
       "      <td>166766</td>\n",
       "    </tr>\n",
       "    <tr>\n",
       "      <th>76</th>\n",
       "      <td>mouse2sample5</td>\n",
       "      <td>9.0</td>\n",
       "      <td>129313</td>\n",
       "    </tr>\n",
       "  </tbody>\n",
       "</table>\n",
       "<p>77 rows × 3 columns</p>\n",
       "</div>"
      ],
      "text/plain": [
       "           sample  global_z       0\n",
       "0   mouse1sample1       0.0  381300\n",
       "1   mouse1sample1       1.5  655279\n",
       "2   mouse1sample1       3.0  776646\n",
       "3   mouse1sample1       4.5  829705\n",
       "4   mouse1sample1       6.0  813036\n",
       "..            ...       ...     ...\n",
       "72  mouse2sample5       3.0  173367\n",
       "73  mouse2sample5       4.5  180612\n",
       "74  mouse2sample5       6.0  183037\n",
       "75  mouse2sample5       7.5  166766\n",
       "76  mouse2sample5       9.0  129313\n",
       "\n",
       "[77 rows x 3 columns]"
      ]
     },
     "execution_count": 26,
     "metadata": {},
     "output_type": "execute_result"
    }
   ],
   "source": [
    "q = q.reset_index()\n",
    "q"
   ]
  },
  {
   "cell_type": "code",
   "execution_count": 27,
   "metadata": {
    "collapsed": true
   },
   "outputs": [],
   "source": [
    "q[['sample','global_z']].to_csv('../processed_data/sample_z_slices.csv',index=False)"
   ]
  },
  {
   "cell_type": "code",
   "execution_count": 28,
   "metadata": {},
   "outputs": [
    {
     "data": {
      "text/html": [
       "<div>\n",
       "<style scoped>\n",
       "    .dataframe tbody tr th:only-of-type {\n",
       "        vertical-align: middle;\n",
       "    }\n",
       "\n",
       "    .dataframe tbody tr th {\n",
       "        vertical-align: top;\n",
       "    }\n",
       "\n",
       "    .dataframe thead th {\n",
       "        text-align: right;\n",
       "    }\n",
       "</style>\n",
       "<table border=\"1\" class=\"dataframe\">\n",
       "  <thead>\n",
       "    <tr style=\"text-align: right;\">\n",
       "      <th></th>\n",
       "      <th>cell_id</th>\n",
       "      <th>boundaryX</th>\n",
       "      <th>boundaryY</th>\n",
       "      <th>slice_id</th>\n",
       "      <th>sample</th>\n",
       "    </tr>\n",
       "  </thead>\n",
       "  <tbody>\n",
       "    <tr>\n",
       "      <th>0</th>\n",
       "      <td>102513782275574352391549636869222584212</td>\n",
       "      <td>2097.1362953431903, 2097.1362953431903, 2097.1...</td>\n",
       "      <td>2346.248493306339, 2345.705993324518, 2345.163...</td>\n",
       "      <td>mouse2_slice10</td>\n",
       "      <td>mouse2sample2</td>\n",
       "    </tr>\n",
       "    <tr>\n",
       "      <th>1</th>\n",
       "      <td>107041692196035477511188554607640157689</td>\n",
       "      <td>2113.628294790536, 2113.519794794172, 2113.519...</td>\n",
       "      <td>2204.981498040259, 2204.5474980548024, 2204.00...</td>\n",
       "      <td>mouse2_slice10</td>\n",
       "      <td>mouse2sample2</td>\n",
       "    </tr>\n",
       "    <tr>\n",
       "      <th>2</th>\n",
       "      <td>110408674460711617898157940394920278916</td>\n",
       "      <td>2033.8807974629103, 2033.8807974629103, 2033.7...</td>\n",
       "      <td>2221.1479974985123, 2220.6054975166917, 2220.1...</td>\n",
       "      <td>mouse2_slice10</td>\n",
       "      <td>mouse2sample2</td>\n",
       "    </tr>\n",
       "    <tr>\n",
       "      <th>3</th>\n",
       "      <td>125816213715504060865256572787204926854</td>\n",
       "      <td>1962.813299844414, 1962.813299844414, 1962.813...</td>\n",
       "      <td>2167.765999287367, 2167.2234993055463, 2166.68...</td>\n",
       "      <td>mouse2_slice10</td>\n",
       "      <td>mouse2sample2</td>\n",
       "    </tr>\n",
       "    <tr>\n",
       "      <th>4</th>\n",
       "      <td>134881201666222369753036768466528484685</td>\n",
       "      <td>2141.40429385975, 2141.40429385975, 2141.40429...</td>\n",
       "      <td>2170.47849919647, 2169.935999214649, 2169.3934...</td>\n",
       "      <td>mouse2_slice10</td>\n",
       "      <td>mouse2sample2</td>\n",
       "    </tr>\n",
       "  </tbody>\n",
       "</table>\n",
       "</div>"
      ],
      "text/plain": [
       "                                   cell_id  \\\n",
       "0  102513782275574352391549636869222584212   \n",
       "1  107041692196035477511188554607640157689   \n",
       "2  110408674460711617898157940394920278916   \n",
       "3  125816213715504060865256572787204926854   \n",
       "4  134881201666222369753036768466528484685   \n",
       "\n",
       "                                           boundaryX  \\\n",
       "0  2097.1362953431903, 2097.1362953431903, 2097.1...   \n",
       "1  2113.628294790536, 2113.519794794172, 2113.519...   \n",
       "2  2033.8807974629103, 2033.8807974629103, 2033.7...   \n",
       "3  1962.813299844414, 1962.813299844414, 1962.813...   \n",
       "4  2141.40429385975, 2141.40429385975, 2141.40429...   \n",
       "\n",
       "                                           boundaryY        slice_id  \\\n",
       "0  2346.248493306339, 2345.705993324518, 2345.163...  mouse2_slice10   \n",
       "1  2204.981498040259, 2204.5474980548024, 2204.00...  mouse2_slice10   \n",
       "2  2221.1479974985123, 2220.6054975166917, 2220.1...  mouse2_slice10   \n",
       "3  2167.765999287367, 2167.2234993055463, 2166.68...  mouse2_slice10   \n",
       "4  2170.47849919647, 2169.935999214649, 2169.3934...  mouse2_slice10   \n",
       "\n",
       "          sample  \n",
       "0  mouse2sample2  \n",
       "1  mouse2sample2  \n",
       "2  mouse2sample2  \n",
       "3  mouse2sample2  \n",
       "4  mouse2sample2  "
      ]
     },
     "execution_count": 28,
     "metadata": {},
     "output_type": "execute_result"
    }
   ],
   "source": [
    "cells = pd.read_csv('../processed_data/segmented_cell_shapes.csv')\n",
    "cells.head()"
   ]
  },
  {
   "cell_type": "code",
   "execution_count": 29,
   "metadata": {},
   "outputs": [
    {
     "data": {
      "text/plain": [
       "sample\n",
       "mouse1sample1    27885\n",
       "mouse1sample2    40645\n",
       "mouse1sample3    35677\n",
       "mouse1sample4    47908\n",
       "mouse1sample5    45533\n",
       "mouse1sample6    36346\n",
       "mouse2sample1    19130\n",
       "mouse2sample2    31381\n",
       "mouse2sample3    27515\n",
       "mouse2sample4    28569\n",
       "mouse2sample5    29270\n",
       "dtype: int64"
      ]
     },
     "execution_count": 29,
     "metadata": {},
     "output_type": "execute_result"
    }
   ],
   "source": [
    "cells.groupby('sample').size()"
   ]
  },
  {
   "cell_type": "code",
   "execution_count": 31,
   "metadata": {},
   "outputs": [
    {
     "data": {
      "text/plain": [
       "array(['mouse2_slice10', 'mouse2_slice70', 'mouse2_slice129',\n",
       "       'mouse2_slice189', 'mouse2_slice249', 'mouse2_slice309',\n",
       "       'mouse2_slice40', 'mouse2_slice99', 'mouse2_slice160',\n",
       "       'mouse2_slice219', 'mouse2_slice280', 'mouse1_slice271',\n",
       "       'mouse1_slice283', 'mouse1_slice291', 'mouse1_slice301',\n",
       "       'mouse1_slice313', 'mouse1_slice326', 'mouse1_slice162',\n",
       "       'mouse1_slice170', 'mouse1_slice180', 'mouse1_slice190',\n",
       "       'mouse1_slice200', 'mouse1_slice201', 'mouse1_slice1',\n",
       "       'mouse1_slice10', 'mouse1_slice21', 'mouse1_slice31',\n",
       "       'mouse1_slice40', 'mouse1_slice50', 'mouse1_slice102',\n",
       "       'mouse1_slice91', 'mouse1_slice81', 'mouse1_slice71',\n",
       "       'mouse1_slice62', 'mouse2_slice1', 'mouse2_slice61',\n",
       "       'mouse2_slice119', 'mouse2_slice300', 'mouse1_slice212',\n",
       "       'mouse1_slice221', 'mouse1_slice232', 'mouse1_slice241',\n",
       "       'mouse1_slice251', 'mouse1_slice260', 'mouse1_slice112',\n",
       "       'mouse1_slice122', 'mouse1_slice131', 'mouse1_slice153',\n",
       "       'mouse2_slice20', 'mouse2_slice79', 'mouse2_slice139',\n",
       "       'mouse2_slice201', 'mouse2_slice261', 'mouse2_slice319',\n",
       "       'mouse2_slice31', 'mouse2_slice90', 'mouse2_slice151',\n",
       "       'mouse2_slice209', 'mouse2_slice270'], dtype=object)"
      ]
     },
     "execution_count": 31,
     "metadata": {},
     "output_type": "execute_result"
    }
   ],
   "source": [
    "cells['slice_id'].unique()"
   ]
  }
 ],
 "metadata": {
  "kernelspec": {
   "display_name": "Python 3",
   "language": "python",
   "name": "python3"
  },
  "language_info": {
   "codemirror_mode": {
    "name": "ipython",
    "version": 3
   },
   "file_extension": ".py",
   "mimetype": "text/x-python",
   "name": "python",
   "nbconvert_exporter": "python",
   "pygments_lexer": "ipython3",
   "version": "3.6.1"
  }
 },
 "nbformat": 4,
 "nbformat_minor": 2
}
