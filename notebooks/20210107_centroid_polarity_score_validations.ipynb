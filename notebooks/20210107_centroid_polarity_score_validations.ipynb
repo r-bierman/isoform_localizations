{
 "cells": [
  {
   "cell_type": "code",
   "execution_count": 5,
   "metadata": {
    "collapsed": true
   },
   "outputs": [],
   "source": [
    "import pandas as pd\n",
    "import numpy as np\n",
    "import sys\n",
    "import os\n",
    "\n",
    "import matplotlib.pyplot as plt\n",
    "import seaborn as sns\n",
    "\n",
    "root_dir = '/oak/stanford/groups/horence/rob/MERFISH_spatial_data'\n",
    "\n",
    "sys.path.append(os.path.join(root_dir,'scripts'))\n",
    "import spatial_utils\n",
    "import plot_utils"
   ]
  },
  {
   "cell_type": "code",
   "execution_count": 2,
   "metadata": {},
   "outputs": [
    {
     "data": {
      "text/html": [
       "<div>\n",
       "<style scoped>\n",
       "    .dataframe tbody tr th:only-of-type {\n",
       "        vertical-align: middle;\n",
       "    }\n",
       "\n",
       "    .dataframe tbody tr th {\n",
       "        vertical-align: top;\n",
       "    }\n",
       "\n",
       "    .dataframe thead th {\n",
       "        text-align: right;\n",
       "    }\n",
       "</style>\n",
       "<table border=\"1\" class=\"dataframe\">\n",
       "  <thead>\n",
       "    <tr style=\"text-align: right;\">\n",
       "      <th></th>\n",
       "      <th>cell_id</th>\n",
       "      <th>target_molecule_name</th>\n",
       "      <th>num_cell_spots</th>\n",
       "      <th>mean_centroid_dist</th>\n",
       "      <th>z_score_centroid_dist</th>\n",
       "    </tr>\n",
       "  </thead>\n",
       "  <tbody>\n",
       "    <tr>\n",
       "      <th>0</th>\n",
       "      <td>10000143038275111136124942858811168393</td>\n",
       "      <td>Adra1b</td>\n",
       "      <td>1</td>\n",
       "      <td>2.779945</td>\n",
       "      <td>-0.476989</td>\n",
       "    </tr>\n",
       "    <tr>\n",
       "      <th>1</th>\n",
       "      <td>10000143038275111136124942858811168393</td>\n",
       "      <td>Aqp4</td>\n",
       "      <td>1</td>\n",
       "      <td>3.808437</td>\n",
       "      <td>-0.163907</td>\n",
       "    </tr>\n",
       "    <tr>\n",
       "      <th>2</th>\n",
       "      <td>10000143038275111136124942858811168393</td>\n",
       "      <td>Bcl11b</td>\n",
       "      <td>1</td>\n",
       "      <td>5.658580</td>\n",
       "      <td>0.399294</td>\n",
       "    </tr>\n",
       "    <tr>\n",
       "      <th>3</th>\n",
       "      <td>10000143038275111136124942858811168393</td>\n",
       "      <td>Brinp3</td>\n",
       "      <td>1</td>\n",
       "      <td>4.015005</td>\n",
       "      <td>-0.101026</td>\n",
       "    </tr>\n",
       "    <tr>\n",
       "      <th>4</th>\n",
       "      <td>10000143038275111136124942858811168393</td>\n",
       "      <td>Cdh20</td>\n",
       "      <td>3</td>\n",
       "      <td>3.606702</td>\n",
       "      <td>-0.225317</td>\n",
       "    </tr>\n",
       "  </tbody>\n",
       "</table>\n",
       "</div>"
      ],
      "text/plain": [
       "                                  cell_id target_molecule_name  \\\n",
       "0  10000143038275111136124942858811168393               Adra1b   \n",
       "1  10000143038275111136124942858811168393                 Aqp4   \n",
       "2  10000143038275111136124942858811168393               Bcl11b   \n",
       "3  10000143038275111136124942858811168393               Brinp3   \n",
       "4  10000143038275111136124942858811168393                Cdh20   \n",
       "\n",
       "   num_cell_spots  mean_centroid_dist  z_score_centroid_dist  \n",
       "0               1            2.779945              -0.476989  \n",
       "1               1            3.808437              -0.163907  \n",
       "2               1            5.658580               0.399294  \n",
       "3               1            4.015005              -0.101026  \n",
       "4               3            3.606702              -0.225317  "
      ]
     },
     "execution_count": 2,
     "metadata": {},
     "output_type": "execute_result"
    }
   ],
   "source": [
    "centroid_df = pd.read_csv('../20210106_centroid_dist_scores.csv')\n",
    "centroid_df.head()"
   ]
  },
  {
   "cell_type": "code",
   "execution_count": 11,
   "metadata": {},
   "outputs": [
    {
     "data": {
      "text/html": [
       "<div>\n",
       "<style scoped>\n",
       "    .dataframe tbody tr th:only-of-type {\n",
       "        vertical-align: middle;\n",
       "    }\n",
       "\n",
       "    .dataframe tbody tr th {\n",
       "        vertical-align: top;\n",
       "    }\n",
       "\n",
       "    .dataframe thead th {\n",
       "        text-align: right;\n",
       "    }\n",
       "</style>\n",
       "<table border=\"1\" class=\"dataframe\">\n",
       "  <thead>\n",
       "    <tr style=\"text-align: right;\">\n",
       "      <th></th>\n",
       "      <th>cell_id</th>\n",
       "      <th>target_molecule_name</th>\n",
       "      <th>num_cell_spots</th>\n",
       "      <th>num_gene_spots</th>\n",
       "      <th>metric_name</th>\n",
       "      <th>raw_metric</th>\n",
       "      <th>cell_zscore</th>\n",
       "      <th>overall_zscore</th>\n",
       "    </tr>\n",
       "  </thead>\n",
       "  <tbody>\n",
       "    <tr>\n",
       "      <th>0</th>\n",
       "      <td>10000143038275111136124942858811168393</td>\n",
       "      <td>Adra1b</td>\n",
       "      <td>1</td>\n",
       "      <td>19</td>\n",
       "      <td>centroid_dist</td>\n",
       "      <td>1.815505</td>\n",
       "      <td>-0.302119</td>\n",
       "      <td>-0.203078</td>\n",
       "    </tr>\n",
       "    <tr>\n",
       "      <th>1</th>\n",
       "      <td>10000143038275111136124942858811168393</td>\n",
       "      <td>Aqp4</td>\n",
       "      <td>1</td>\n",
       "      <td>6</td>\n",
       "      <td>centroid_dist</td>\n",
       "      <td>2.743423</td>\n",
       "      <td>-0.380195</td>\n",
       "      <td>-0.149335</td>\n",
       "    </tr>\n",
       "    <tr>\n",
       "      <th>2</th>\n",
       "      <td>10000143038275111136124942858811168393</td>\n",
       "      <td>Bcl11b</td>\n",
       "      <td>1</td>\n",
       "      <td>17</td>\n",
       "      <td>centroid_dist</td>\n",
       "      <td>8.417139</td>\n",
       "      <td>-0.300100</td>\n",
       "      <td>0.049828</td>\n",
       "    </tr>\n",
       "    <tr>\n",
       "      <th>3</th>\n",
       "      <td>10000143038275111136124942858811168393</td>\n",
       "      <td>Brinp3</td>\n",
       "      <td>1</td>\n",
       "      <td>14</td>\n",
       "      <td>centroid_dist</td>\n",
       "      <td>4.383927</td>\n",
       "      <td>-0.422396</td>\n",
       "      <td>0.104364</td>\n",
       "    </tr>\n",
       "    <tr>\n",
       "      <th>4</th>\n",
       "      <td>10000143038275111136124942858811168393</td>\n",
       "      <td>Cdh20</td>\n",
       "      <td>3</td>\n",
       "      <td>17</td>\n",
       "      <td>centroid_dist</td>\n",
       "      <td>1.074118</td>\n",
       "      <td>-0.246510</td>\n",
       "      <td>0.270255</td>\n",
       "    </tr>\n",
       "  </tbody>\n",
       "</table>\n",
       "</div>"
      ],
      "text/plain": [
       "                                  cell_id target_molecule_name  \\\n",
       "0  10000143038275111136124942858811168393               Adra1b   \n",
       "1  10000143038275111136124942858811168393                 Aqp4   \n",
       "2  10000143038275111136124942858811168393               Bcl11b   \n",
       "3  10000143038275111136124942858811168393               Brinp3   \n",
       "4  10000143038275111136124942858811168393                Cdh20   \n",
       "\n",
       "   num_cell_spots  num_gene_spots    metric_name  raw_metric  cell_zscore  \\\n",
       "0               1              19  centroid_dist    1.815505    -0.302119   \n",
       "1               1               6  centroid_dist    2.743423    -0.380195   \n",
       "2               1              17  centroid_dist    8.417139    -0.300100   \n",
       "3               1              14  centroid_dist    4.383927    -0.422396   \n",
       "4               3              17  centroid_dist    1.074118    -0.246510   \n",
       "\n",
       "   overall_zscore  \n",
       "0       -0.203078  \n",
       "1       -0.149335  \n",
       "2        0.049828  \n",
       "3        0.104364  \n",
       "4        0.270255  "
      ]
     },
     "execution_count": 11,
     "metadata": {},
     "output_type": "execute_result"
    }
   ],
   "source": [
    "x = centroid_df[['cell_id','target_molecule_name','num_cell_spots']].head()\n",
    "x['num_gene_spots'] = np.random.randint(6,20,5)\n",
    "x['metric_name'] = 'centroid_dist'\n",
    "x['raw_metric'] = np.random.rand(5)*9\n",
    "x['cell_zscore'] = np.random.rand(5)-0.5\n",
    "x['overall_zscore'] = np.random.rand(5)-0.5\n",
    "x"
   ]
  },
  {
   "cell_type": "code",
   "execution_count": 5,
   "metadata": {},
   "outputs": [
    {
     "data": {
      "text/plain": [
       "237949"
      ]
     },
     "execution_count": 5,
     "metadata": {},
     "output_type": "execute_result"
    }
   ],
   "source": [
    "centroid_df['cell_id'].unique().size"
   ]
  },
  {
   "cell_type": "code",
   "execution_count": 6,
   "metadata": {},
   "outputs": [
    {
     "data": {
      "text/html": [
       "<div>\n",
       "<style scoped>\n",
       "    .dataframe tbody tr th:only-of-type {\n",
       "        vertical-align: middle;\n",
       "    }\n",
       "\n",
       "    .dataframe tbody tr th {\n",
       "        vertical-align: top;\n",
       "    }\n",
       "\n",
       "    .dataframe thead th {\n",
       "        text-align: right;\n",
       "    }\n",
       "</style>\n",
       "<table border=\"1\" class=\"dataframe\">\n",
       "  <thead>\n",
       "    <tr style=\"text-align: right;\">\n",
       "      <th></th>\n",
       "      <th>cell_id</th>\n",
       "      <th>target_molecule_name</th>\n",
       "      <th>gene_centroidX</th>\n",
       "      <th>gene_centroidY</th>\n",
       "      <th>cell_centroidX</th>\n",
       "      <th>cell_centroidY</th>\n",
       "      <th>gene_centroid_dist</th>\n",
       "      <th>z_score_polarity</th>\n",
       "    </tr>\n",
       "  </thead>\n",
       "  <tbody>\n",
       "    <tr>\n",
       "      <th>0</th>\n",
       "      <td>10000143038275111136124942858811168393</td>\n",
       "      <td>Adra1b</td>\n",
       "      <td>4737.304000</td>\n",
       "      <td>3078.174000</td>\n",
       "      <td>4738.63409</td>\n",
       "      <td>3075.732903</td>\n",
       "      <td>2.779945</td>\n",
       "      <td>-0.092509</td>\n",
       "    </tr>\n",
       "    <tr>\n",
       "      <th>1</th>\n",
       "      <td>10000143038275111136124942858811168393</td>\n",
       "      <td>Aqp4</td>\n",
       "      <td>4734.825700</td>\n",
       "      <td>3075.751700</td>\n",
       "      <td>4738.63409</td>\n",
       "      <td>3075.732903</td>\n",
       "      <td>3.808437</td>\n",
       "      <td>0.153531</td>\n",
       "    </tr>\n",
       "    <tr>\n",
       "      <th>2</th>\n",
       "      <td>10000143038275111136124942858811168393</td>\n",
       "      <td>Bcl11b</td>\n",
       "      <td>4732.999500</td>\n",
       "      <td>3075.212400</td>\n",
       "      <td>4738.63409</td>\n",
       "      <td>3075.732903</td>\n",
       "      <td>5.658580</td>\n",
       "      <td>0.596132</td>\n",
       "    </tr>\n",
       "    <tr>\n",
       "      <th>3</th>\n",
       "      <td>10000143038275111136124942858811168393</td>\n",
       "      <td>Brinp3</td>\n",
       "      <td>4737.842000</td>\n",
       "      <td>3079.669000</td>\n",
       "      <td>4738.63409</td>\n",
       "      <td>3075.732903</td>\n",
       "      <td>4.015005</td>\n",
       "      <td>0.202948</td>\n",
       "    </tr>\n",
       "    <tr>\n",
       "      <th>4</th>\n",
       "      <td>10000143038275111136124942858811168393</td>\n",
       "      <td>Cdh20</td>\n",
       "      <td>4737.719533</td>\n",
       "      <td>3077.114767</td>\n",
       "      <td>4738.63409</td>\n",
       "      <td>3075.732903</td>\n",
       "      <td>1.657094</td>\n",
       "      <td>-0.361123</td>\n",
       "    </tr>\n",
       "  </tbody>\n",
       "</table>\n",
       "</div>"
      ],
      "text/plain": [
       "                                  cell_id target_molecule_name  \\\n",
       "0  10000143038275111136124942858811168393               Adra1b   \n",
       "1  10000143038275111136124942858811168393                 Aqp4   \n",
       "2  10000143038275111136124942858811168393               Bcl11b   \n",
       "3  10000143038275111136124942858811168393               Brinp3   \n",
       "4  10000143038275111136124942858811168393                Cdh20   \n",
       "\n",
       "   gene_centroidX  gene_centroidY  cell_centroidX  cell_centroidY  \\\n",
       "0     4737.304000     3078.174000      4738.63409     3075.732903   \n",
       "1     4734.825700     3075.751700      4738.63409     3075.732903   \n",
       "2     4732.999500     3075.212400      4738.63409     3075.732903   \n",
       "3     4737.842000     3079.669000      4738.63409     3075.732903   \n",
       "4     4737.719533     3077.114767      4738.63409     3075.732903   \n",
       "\n",
       "   gene_centroid_dist  z_score_polarity  \n",
       "0            2.779945         -0.092509  \n",
       "1            3.808437          0.153531  \n",
       "2            5.658580          0.596132  \n",
       "3            4.015005          0.202948  \n",
       "4            1.657094         -0.361123  "
      ]
     },
     "execution_count": 6,
     "metadata": {},
     "output_type": "execute_result"
    }
   ],
   "source": [
    "polarity_df = pd.read_csv('../20210106_polarity_scores.csv')\n",
    "polarity_df.head()"
   ]
  },
  {
   "cell_type": "code",
   "execution_count": 7,
   "metadata": {},
   "outputs": [
    {
     "data": {
      "text/plain": [
       "237949"
      ]
     },
     "execution_count": 7,
     "metadata": {},
     "output_type": "execute_result"
    }
   ],
   "source": [
    "polarity_df['cell_id'].unique().size"
   ]
  },
  {
   "cell_type": "code",
   "execution_count": 10,
   "metadata": {},
   "outputs": [
    {
     "data": {
      "image/png": "[encoded data removed]",
      "text/plain": [
       "<Figure size 432x288 with 1 Axes>"
      ]
     },
     "metadata": {},
     "output_type": "display_data"
    }
   ],
   "source": [
    "sns.distplot(\n",
    "    centroid_df['z_score_centroid_dist'],\n",
    ")\n",
    "plt.title('Centroid z-score distribution')\n",
    "plt.show()\n",
    "plt.close()"
   ]
  },
  {
   "cell_type": "code",
   "execution_count": 9,
   "metadata": {},
   "outputs": [
    {
     "data": {
      "image/png": "[encoded data removed]",
      "text/plain": [
       "<Figure size 432x288 with 1 Axes>"
      ]
     },
     "metadata": {},
     "output_type": "display_data"
    }
   ],
   "source": [
    "sns.distplot(\n",
    "    polarity_df['z_score_polarity'],\n",
    ")\n",
    "plt.title('Polarity z-score distribution')\n",
    "plt.show()\n",
    "plt.close()"
   ]
  },
  {
   "cell_type": "code",
   "execution_count": 14,
   "metadata": {},
   "outputs": [
    {
     "data": {
      "text/html": [
       "<div>\n",
       "<style scoped>\n",
       "    .dataframe tbody tr th:only-of-type {\n",
       "        vertical-align: middle;\n",
       "    }\n",
       "\n",
       "    .dataframe tbody tr th {\n",
       "        vertical-align: top;\n",
       "    }\n",
       "\n",
       "    .dataframe thead th {\n",
       "        text-align: right;\n",
       "    }\n",
       "</style>\n",
       "<table border=\"1\" class=\"dataframe\">\n",
       "  <thead>\n",
       "    <tr style=\"text-align: right;\">\n",
       "      <th></th>\n",
       "      <th>cell_id</th>\n",
       "      <th>target_molecule_name</th>\n",
       "      <th>num_cell_spots</th>\n",
       "      <th>mean_centroid_dist</th>\n",
       "      <th>z_score_centroid_dist</th>\n",
       "    </tr>\n",
       "  </thead>\n",
       "  <tbody>\n",
       "    <tr>\n",
       "      <th>201094</th>\n",
       "      <td>104219824833050861848495496292093688850</td>\n",
       "      <td>5730522E02Rik</td>\n",
       "      <td>1</td>\n",
       "      <td>8.868535</td>\n",
       "      <td>1.376433</td>\n",
       "    </tr>\n",
       "    <tr>\n",
       "      <th>201095</th>\n",
       "      <td>104219824833050861848495496292093688850</td>\n",
       "      <td>Acta2</td>\n",
       "      <td>1</td>\n",
       "      <td>6.391704</td>\n",
       "      <td>0.622463</td>\n",
       "    </tr>\n",
       "    <tr>\n",
       "      <th>201096</th>\n",
       "      <td>104219824833050861848495496292093688850</td>\n",
       "      <td>Adamts2</td>\n",
       "      <td>1</td>\n",
       "      <td>14.841440</td>\n",
       "      <td>3.194641</td>\n",
       "    </tr>\n",
       "    <tr>\n",
       "      <th>201097</th>\n",
       "      <td>104219824833050861848495496292093688850</td>\n",
       "      <td>Adamts4</td>\n",
       "      <td>1</td>\n",
       "      <td>19.543210</td>\n",
       "      <td>4.625903</td>\n",
       "    </tr>\n",
       "    <tr>\n",
       "      <th>201098</th>\n",
       "      <td>104219824833050861848495496292093688850</td>\n",
       "      <td>Adra1b</td>\n",
       "      <td>7</td>\n",
       "      <td>9.384239</td>\n",
       "      <td>1.533419</td>\n",
       "    </tr>\n",
       "  </tbody>\n",
       "</table>\n",
       "</div>"
      ],
      "text/plain": [
       "                                        cell_id target_molecule_name  \\\n",
       "201094  104219824833050861848495496292093688850        5730522E02Rik   \n",
       "201095  104219824833050861848495496292093688850                Acta2   \n",
       "201096  104219824833050861848495496292093688850              Adamts2   \n",
       "201097  104219824833050861848495496292093688850              Adamts4   \n",
       "201098  104219824833050861848495496292093688850               Adra1b   \n",
       "\n",
       "        num_cell_spots  mean_centroid_dist  z_score_centroid_dist  \n",
       "201094               1            8.868535               1.376433  \n",
       "201095               1            6.391704               0.622463  \n",
       "201096               1           14.841440               3.194641  \n",
       "201097               1           19.543210               4.625903  \n",
       "201098               7            9.384239               1.533419  "
      ]
     },
     "execution_count": 14,
     "metadata": {},
     "output_type": "execute_result"
    }
   ],
   "source": [
    "cell_ids = centroid_df[centroid_df['z_score_centroid_dist'].gt(4)]['cell_id'].unique()\n",
    "skew_centroid_df = centroid_df[centroid_df['cell_id'].isin(cell_ids)]\n",
    "skew_centroid_df.head()"
   ]
  },
  {
   "cell_type": "code",
   "execution_count": 26,
   "metadata": {},
   "outputs": [
    {
     "data": {
      "text/html": [
       "<div>\n",
       "<style scoped>\n",
       "    .dataframe tbody tr th:only-of-type {\n",
       "        vertical-align: middle;\n",
       "    }\n",
       "\n",
       "    .dataframe tbody tr th {\n",
       "        vertical-align: top;\n",
       "    }\n",
       "\n",
       "    .dataframe thead th {\n",
       "        text-align: right;\n",
       "    }\n",
       "</style>\n",
       "<table border=\"1\" class=\"dataframe\">\n",
       "  <thead>\n",
       "    <tr style=\"text-align: right;\">\n",
       "      <th></th>\n",
       "      <th>cell_id</th>\n",
       "      <th>target_molecule_name</th>\n",
       "      <th>num_cell_spots</th>\n",
       "      <th>mean_centroid_dist</th>\n",
       "      <th>z_score_centroid_dist</th>\n",
       "    </tr>\n",
       "  </thead>\n",
       "  <tbody>\n",
       "    <tr>\n",
       "      <th>4716304</th>\n",
       "      <td>198426927978050439832252189161704654926</td>\n",
       "      <td>Tshz2</td>\n",
       "      <td>52</td>\n",
       "      <td>17.77415</td>\n",
       "      <td>4.087384</td>\n",
       "    </tr>\n",
       "  </tbody>\n",
       "</table>\n",
       "</div>"
      ],
      "text/plain": [
       "                                         cell_id target_molecule_name  \\\n",
       "4716304  198426927978050439832252189161704654926                Tshz2   \n",
       "\n",
       "         num_cell_spots  mean_centroid_dist  z_score_centroid_dist  \n",
       "4716304              52            17.77415               4.087384  "
      ]
     },
     "execution_count": 26,
     "metadata": {},
     "output_type": "execute_result"
    }
   ],
   "source": [
    "skew_genes = centroid_df[centroid_df['z_score_centroid_dist'].gt(4)]\n",
    "skew_genes[skew_genes['num_cell_spots'] == skew_genes['num_cell_spots'].max()]"
   ]
  },
  {
   "cell_type": "code",
   "execution_count": 16,
   "metadata": {
    "collapsed": true
   },
   "outputs": [],
   "source": [
    "cells = pd.read_csv('../processed_data/segmented_cell_shapes.csv')"
   ]
  },
  {
   "cell_type": "code",
   "execution_count": 18,
   "metadata": {
    "collapsed": true
   },
   "outputs": [],
   "source": [
    "spots = pd.read_csv('../processed_data/all_passing_rna_spots.csv')"
   ]
  },
  {
   "cell_type": "code",
   "execution_count": 27,
   "metadata": {},
   "outputs": [
    {
     "data": {
      "image/png": "[encoded data removed]",
      "text/plain": [
       "<Figure size 576x576 with 1 Axes>"
      ]
     },
     "metadata": {},
     "output_type": "display_data"
    }
   ],
   "source": [
    "import importlib\n",
    "importlib.reload(plot_utils)\n",
    "\n",
    "for cell_id,g in skew_centroid_df.groupby('cell_id'):\n",
    "    cell_id = '198426927978050439832252189161704654926' #NOTE\n",
    "    cells_subset = cells[cells['cell_id'].eq(cell_id)]\n",
    "    spots_subset = spots[spots['cell_id'].eq(cell_id)]\n",
    "    \n",
    "    plot_utils.plot_spot_cells(spots_subset, cells_subset, spot_colors={'Tshz2':'r'})\n",
    "    plt.show()\n",
    "    plt.close()\n",
    "    break"
   ]
  }
 ],
 "metadata": {
  "kernelspec": {
   "display_name": "Python 3",
   "language": "python",
   "name": "python3"
  },
  "language_info": {
   "codemirror_mode": {
    "name": "ipython",
    "version": 3
   },
   "file_extension": ".py",
   "mimetype": "text/x-python",
   "name": "python",
   "nbconvert_exporter": "python",
   "pygments_lexer": "ipython3",
   "version": "3.6.1"
  }
 },
 "nbformat": 4,
 "nbformat_minor": 2
}
